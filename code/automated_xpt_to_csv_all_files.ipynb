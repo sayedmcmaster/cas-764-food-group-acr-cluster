{
 "cells": [
  {
   "cell_type": "markdown",
   "metadata": {},
   "source": [
    "# xport module need to be installed."
   ]
  },
  {
   "cell_type": "markdown",
   "metadata": {},
   "source": [
    "# xpt_to_csv_all_files_in_a_folder"
   ]
  },
  {
   "cell_type": "code",
   "execution_count": 1,
   "metadata": {},
   "outputs": [],
   "source": [
    "# The goal is to combine all these data together for various years\n",
    "\n",
    "# Demographics Data\n",
    "# food_01Dietary Data\n",
    "# medical_03Examination Data\n",
    "# lab_05Laboratory Data\n",
    "# chat_01Questionnaire Data\n",
    "# alert_02Limited Access Data"
   ]
  },
  {
   "cell_type": "code",
   "execution_count": 2,
   "metadata": {},
   "outputs": [],
   "source": [
    "from __future__ import print_function\n",
    "from ipywidgets import interact, interactive, fixed, interact_manual\n",
    "import ipywidgets as widgets\n",
    "import os"
   ]
  },
  {
   "cell_type": "code",
   "execution_count": 3,
   "metadata": {},
   "outputs": [
    {
     "data": {
      "text/plain": [
       "['2017-2018', '2015-2016', '2013-2014', '2011-2012']"
      ]
     },
     "execution_count": 3,
     "metadata": {},
     "output_type": "execute_result"
    }
   ],
   "source": [
    "purpose = ''\n",
    "outFilesTogether = 1;\n",
    "years = ['2017-2018', '2015-2016', '2013-2014', '2011-2012']\n",
    "years"
   ]
  },
  {
   "cell_type": "code",
   "execution_count": 4,
   "metadata": {},
   "outputs": [],
   "source": [
    "import xport\n",
    "\n",
    "def create_csv_from_xpt_data_and_data_format_file(aYear, aDataFile, aDataFileWithPath, aFormatFile):    \n",
    "    out_folder = './nhanes_output_data/';\n",
    "    if outFilesTogether == 1:\n",
    "            out_folder = './nhanes_output_data/outputfilestogether/'\n",
    "    else:        \n",
    "        out_folder = './nhanes_output_data/' + aYear + \"/\"\n",
    "            \n",
    "    data_file = aDataFileWithPath\n",
    "    # -----\n",
    "    f = open(aDataFileWithPath, 'rb')\n",
    "    row = xport.Reader(f)\n",
    "    columns_set = row.fields\n",
    "\n",
    "    columns = ''\n",
    "    for field in columns_set:\n",
    "        columns += '\"' + field.strip() + '\"'+ ',' \n",
    "    columns += '\\n'    \n",
    "    f.close()\n",
    "       \n",
    "    # write to output files    \n",
    "    out_file = out_folder  + aYear + \"-\" + aDataFile + '.csv'\n",
    "    print(out_file);\n",
    "    out = open(out_file, 'w')\n",
    "    out.write(columns)\n",
    "        \n",
    "    # print data format\n",
    "    f = open(aFormatFile, 'r')\n",
    "    columnsLong = ''\n",
    "    for line in f:\n",
    "        columnsLong += '\"' + line.strip() + '\"'+ ','             \n",
    "    columnsLong += '\\n'    \n",
    "    out.write(columnsLong)\n",
    "\n",
    "    with open(aDataFileWithPath, 'rb') as f:\n",
    "        for row in xport.Reader(f):\n",
    "            #print(type(row))\n",
    "            #print (row)\n",
    "            row_str = ''\n",
    "            for aField in row:\n",
    "                row_str += '\"' + str(aField) + '\"' + ','            \n",
    "            row_str += '\\n'            \n",
    "            out.write(row_str)            \n",
    "    out.close()\n",
    "    f.close()\n",
    "    \n",
    "    f = open(aDataFileWithPath, 'rb')\n",
    "    row = xport.Reader(f)    \n",
    "    f.close()\n",
    "    #--\n",
    "    f = open(aDataFileWithPath, 'rb')\n",
    "    row = xport.Reader(f)\n",
    "    print(row.fields)\n",
    "    f.close()\n",
    "    #--\n",
    "    with open(aDataFileWithPath, 'rb') as f:\n",
    "        columns = xport.to_columns(f)\n",
    "    f.close()\n",
    "    #columns\n",
    "    #---\n",
    "    with open(aDataFileWithPath, 'rb') as f:\n",
    "        columns = xport.to_numpy(f)\n",
    "    f.close()    \n"
   ]
  },
  {
   "cell_type": "code",
   "execution_count": 5,
   "metadata": {},
   "outputs": [
    {
     "name": "stdout",
     "output_type": "stream",
     "text": [
      "./nhanes_output_data/outputfilestogether/2017-2018-0_demographics-DEMO_J.XPT.csv\n",
      "('SEQN', 'SDDSRVYR', 'RIDSTATR', 'RIAGENDR', 'RIDAGEYR', 'RIDAGEMN', 'RIDRETH1', 'RIDRETH3', 'RIDEXMON', 'RIDEXAGM', 'DMQMILIZ', 'DMQADFC', 'DMDBORN4', 'DMDCITZN', 'DMDYRSUS', 'DMDEDUC3', 'DMDEDUC2', 'DMDMARTL', 'RIDEXPRG', 'SIALANG', 'SIAPROXY', 'SIAINTRP', 'FIALANG', 'FIAPROXY', 'FIAINTRP', 'MIALANG', 'MIAPROXY', 'MIAINTRP', 'AIALANGA', 'DMDHHSIZ', 'DMDFMSIZ', 'DMDHHSZA', 'DMDHHSZB', 'DMDHHSZE', 'DMDHRGND', 'DMDHRAGZ', 'DMDHREDZ', 'DMDHRMAZ', 'DMDHSEDZ', 'WTINT2YR', 'WTMEC2YR', 'SDMVPSU', 'SDMVSTRA', 'INDHHIN2', 'INDFMIN2', 'INDFMPIR')\n",
      "./nhanes_output_data/outputfilestogether/2017-2018-1_Dietary Interview - Individual Foods, First Day_DR1IFF_J.XPT.csv\n",
      "('SEQN', 'WTDRD1', 'WTDR2D', 'DR1ILINE', 'DR1DRSTZ', 'DR1EXMER', 'DRABF', 'DRDINT', 'DR1DBIH', 'DR1DAY', 'DR1LANG', 'DR1CCMNM', 'DR1CCMTX', 'DR1_020', 'DR1_030Z', 'DR1FS', 'DR1_040Z', 'DR1IFDCD', 'DR1IGRMS', 'DR1IKCAL', 'DR1IPROT', 'DR1ICARB', 'DR1ISUGR', 'DR1IFIBE', 'DR1ITFAT', 'DR1ISFAT', 'DR1IMFAT', 'DR1IPFAT', 'DR1ICHOL', 'DR1IATOC', 'DR1IATOA', 'DR1IRET', 'DR1IVARA', 'DR1IACAR', 'DR1IBCAR', 'DR1ICRYP', 'DR1ILYCO', 'DR1ILZ', 'DR1IVB1', 'DR1IVB2', 'DR1INIAC', 'DR1IVB6', 'DR1IFOLA', 'DR1IFA', 'DR1IFF', 'DR1IFDFE', 'DR1ICHL', 'DR1IVB12', 'DR1IB12A', 'DR1IVC', 'DR1IVD', 'DR1IVK', 'DR1ICALC', 'DR1IPHOS', 'DR1IMAGN', 'DR1IIRON', 'DR1IZINC', 'DR1ICOPP', 'DR1ISODI', 'DR1IPOTA', 'DR1ISELE', 'DR1ICAFF', 'DR1ITHEO', 'DR1IALCO', 'DR1IMOIS', 'DR1IS040', 'DR1IS060', 'DR1IS080', 'DR1IS100', 'DR1IS120', 'DR1IS140', 'DR1IS160', 'DR1IS180', 'DR1IM161', 'DR1IM181', 'DR1IM201', 'DR1IM221', 'DR1IP182', 'DR1IP183', 'DR1IP184', 'DR1IP204', 'DR1IP205', 'DR1IP225', 'DR1IP226')\n",
      "./nhanes_output_data/outputfilestogether/2017-2018-2_Dietary Interview - Individual Foods, Second Day_DR2IFF_J.XPT.csv\n",
      "('SEQN', 'WTDRD1', 'WTDR2D', 'DR2ILINE', 'DR2DRSTZ', 'DR2EXMER', 'DRABF', 'DRDINT', 'DR2DBIH', 'DR2DAY', 'DR2LANG', 'DR2CCMNM', 'DR2CCMTX', 'DR2_020', 'DR2_030Z', 'DR2FS', 'DR2_040Z', 'DR2IFDCD', 'DR2IGRMS', 'DR2IKCAL', 'DR2IPROT', 'DR2ICARB', 'DR2ISUGR', 'DR2IFIBE', 'DR2ITFAT', 'DR2ISFAT', 'DR2IMFAT', 'DR2IPFAT', 'DR2ICHOL', 'DR2IATOC', 'DR2IATOA', 'DR2IRET', 'DR2IVARA', 'DR2IACAR', 'DR2IBCAR', 'DR2ICRYP', 'DR2ILYCO', 'DR2ILZ', 'DR2IVB1', 'DR2IVB2', 'DR2INIAC', 'DR2IVB6', 'DR2IFOLA', 'DR2IFA', 'DR2IFF', 'DR2IFDFE', 'DR2ICHL', 'DR2IVB12', 'DR2IB12A', 'DR2IVC', 'DR2IVD', 'DR2IVK', 'DR2ICALC', 'DR2IPHOS', 'DR2IMAGN', 'DR2IIRON', 'DR2IZINC', 'DR2ICOPP', 'DR2ISODI', 'DR2IPOTA', 'DR2ISELE', 'DR2ICAFF', 'DR2ITHEO', 'DR2IALCO', 'DR2IMOIS', 'DR2IS040', 'DR2IS060', 'DR2IS080', 'DR2IS100', 'DR2IS120', 'DR2IS140', 'DR2IS160', 'DR2IS180', 'DR2IM161', 'DR2IM181', 'DR2IM201', 'DR2IM221', 'DR2IP182', 'DR2IP183', 'DR2IP184', 'DR2IP204', 'DR2IP205', 'DR2IP225', 'DR2IP226')\n",
      "./nhanes_output_data/outputfilestogether/2017-2018-3_Albumin & Creatinine - Urine-ALB_CR_J.XPT.csv\n",
      "('SEQN', 'URXUMA', 'URXUMS', 'URDUMALC', 'URXUCR', 'URXCRS', 'URDUCRLC', 'URDACT')\n",
      "./nhanes_output_data/outputfilestogether/2015-2016-0_Demographic Variables and Sample Weights-DEMO_I.XPT.csv\n",
      "('SEQN', 'SDDSRVYR', 'RIDSTATR', 'RIAGENDR', 'RIDAGEYR', 'RIDAGEMN', 'RIDRETH1', 'RIDRETH3', 'RIDEXMON', 'RIDEXAGM', 'DMQMILIZ', 'DMQADFC', 'DMDBORN4', 'DMDCITZN', 'DMDYRSUS', 'DMDEDUC3', 'DMDEDUC2', 'DMDMARTL', 'RIDEXPRG', 'SIALANG', 'SIAPROXY', 'SIAINTRP', 'FIALANG', 'FIAPROXY', 'FIAINTRP', 'MIALANG', 'MIAPROXY', 'MIAINTRP', 'AIALANGA', 'DMDHHSIZ', 'DMDFMSIZ', 'DMDHHSZA', 'DMDHHSZB', 'DMDHHSZE', 'DMDHRGND', 'DMDHRAGE', 'DMDHRBR4', 'DMDHREDU', 'DMDHRMAR', 'DMDHSEDU', 'WTINT2YR', 'WTMEC2YR', 'SDMVPSU', 'SDMVSTRA', 'INDHHIN2', 'INDFMIN2', 'INDFMPIR')\n",
      "./nhanes_output_data/outputfilestogether/2015-2016-1_Dietary Interview - Individual Foods, First Day_DR1IFF_I.XPT.csv\n",
      "('SEQN', 'WTDRD1', 'WTDR2D', 'DR1ILINE', 'DR1DRSTZ', 'DR1EXMER', 'DRABF', 'DRDINT', 'DR1DBIH', 'DR1DAY', 'DR1LANG', 'DR1CCMNM', 'DR1CCMTX', 'DR1_020', 'DR1_030Z', 'DR1FS', 'DR1_040Z', 'DR1IFDCD', 'DR1IGRMS', 'DR1IKCAL', 'DR1IPROT', 'DR1ICARB', 'DR1ISUGR', 'DR1IFIBE', 'DR1ITFAT', 'DR1ISFAT', 'DR1IMFAT', 'DR1IPFAT', 'DR1ICHOL', 'DR1IATOC', 'DR1IATOA', 'DR1IRET', 'DR1IVARA', 'DR1IACAR', 'DR1IBCAR', 'DR1ICRYP', 'DR1ILYCO', 'DR1ILZ', 'DR1IVB1', 'DR1IVB2', 'DR1INIAC', 'DR1IVB6', 'DR1IFOLA', 'DR1IFA', 'DR1IFF', 'DR1IFDFE', 'DR1ICHL', 'DR1IVB12', 'DR1IB12A', 'DR1IVC', 'DR1IVD', 'DR1IVK', 'DR1ICALC', 'DR1IPHOS', 'DR1IMAGN', 'DR1IIRON', 'DR1IZINC', 'DR1ICOPP', 'DR1ISODI', 'DR1IPOTA', 'DR1ISELE', 'DR1ICAFF', 'DR1ITHEO', 'DR1IALCO', 'DR1IMOIS', 'DR1IS040', 'DR1IS060', 'DR1IS080', 'DR1IS100', 'DR1IS120', 'DR1IS140', 'DR1IS160', 'DR1IS180', 'DR1IM161', 'DR1IM181', 'DR1IM201', 'DR1IM221', 'DR1IP182', 'DR1IP183', 'DR1IP184', 'DR1IP204', 'DR1IP205', 'DR1IP225', 'DR1IP226')\n",
      "./nhanes_output_data/outputfilestogether/2015-2016-2_Dietary Interview - Individual Foods, First Day-DR2IFF_I.XPT.csv\n",
      "('SEQN', 'WTDRD1', 'WTDR2D', 'DR2ILINE', 'DR2DRSTZ', 'DR2EXMER', 'DRABF', 'DRDINT', 'DR2DBIH', 'DR2DAY', 'DR2LANG', 'DR2CCMNM', 'DR2CCMTX', 'DR2_020', 'DR2_030Z', 'DR2FS', 'DR2_040Z', 'DR2IFDCD', 'DR2IGRMS', 'DR2IKCAL', 'DR2IPROT', 'DR2ICARB', 'DR2ISUGR', 'DR2IFIBE', 'DR2ITFAT', 'DR2ISFAT', 'DR2IMFAT', 'DR2IPFAT', 'DR2ICHOL', 'DR2IATOC', 'DR2IATOA', 'DR2IRET', 'DR2IVARA', 'DR2IACAR', 'DR2IBCAR', 'DR2ICRYP', 'DR2ILYCO', 'DR2ILZ', 'DR2IVB1', 'DR2IVB2', 'DR2INIAC', 'DR2IVB6', 'DR2IFOLA', 'DR2IFA', 'DR2IFF', 'DR2IFDFE', 'DR2ICHL', 'DR2IVB12', 'DR2IB12A', 'DR2IVC', 'DR2IVD', 'DR2IVK', 'DR2ICALC', 'DR2IPHOS', 'DR2IMAGN', 'DR2IIRON', 'DR2IZINC', 'DR2ICOPP', 'DR2ISODI', 'DR2IPOTA', 'DR2ISELE', 'DR2ICAFF', 'DR2ITHEO', 'DR2IALCO', 'DR2IMOIS', 'DR2IS040', 'DR2IS060', 'DR2IS080', 'DR2IS100', 'DR2IS120', 'DR2IS140', 'DR2IS160', 'DR2IS180', 'DR2IM161', 'DR2IM181', 'DR2IM201', 'DR2IM221', 'DR2IP182', 'DR2IP183', 'DR2IP184', 'DR2IP204', 'DR2IP205', 'DR2IP225', 'DR2IP226')\n",
      "./nhanes_output_data/outputfilestogether/2015-2016-3_Albumin & Creatinine - Urine-ALB_CR_I.XPT.csv\n",
      "('SEQN', 'URXUMA', 'URDUMALC', 'URXUMS', 'URXUCR', 'URDUCRLC', 'URXCRS', 'URDACT')\n",
      "./nhanes_output_data/outputfilestogether/2013-2014-0_Demographic Variables and Sample Weights-DEMO_H.XPT.csv\n",
      "('SEQN', 'SDDSRVYR', 'RIDSTATR', 'RIAGENDR', 'RIDAGEYR', 'RIDAGEMN', 'RIDRETH1', 'RIDRETH3', 'RIDEXMON', 'RIDEXAGM', 'DMQMILIZ', 'DMQADFC', 'DMDBORN4', 'DMDCITZN', 'DMDYRSUS', 'DMDEDUC3', 'DMDEDUC2', 'DMDMARTL', 'RIDEXPRG', 'SIALANG', 'SIAPROXY', 'SIAINTRP', 'FIALANG', 'FIAPROXY', 'FIAINTRP', 'MIALANG', 'MIAPROXY', 'MIAINTRP', 'AIALANGA', 'DMDHHSIZ', 'DMDFMSIZ', 'DMDHHSZA', 'DMDHHSZB', 'DMDHHSZE', 'DMDHRGND', 'DMDHRAGE', 'DMDHRBR4', 'DMDHREDU', 'DMDHRMAR', 'DMDHSEDU', 'WTINT2YR', 'WTMEC2YR', 'SDMVPSU', 'SDMVSTRA', 'INDHHIN2', 'INDFMIN2', 'INDFMPIR')\n",
      "./nhanes_output_data/outputfilestogether/2013-2014-1_Dietary Interview - Individual Foods, First Day-DR1IFF_H.XPT.csv\n",
      "('SEQN', 'WTDRD1', 'WTDR2D', 'DR1ILINE', 'DR1DRSTZ', 'DR1EXMER', 'DRABF', 'DRDINT', 'DR1DBIH', 'DR1DAY', 'DR1LANG', 'DR1CCMNM', 'DR1CCMTX', 'DR1_020', 'DR1_030Z', 'DR1FS', 'DR1_040Z', 'DR1IFDCD', 'DR1IGRMS', 'DR1IKCAL', 'DR1IPROT', 'DR1ICARB', 'DR1ISUGR', 'DR1IFIBE', 'DR1ITFAT', 'DR1ISFAT', 'DR1IMFAT', 'DR1IPFAT', 'DR1ICHOL', 'DR1IATOC', 'DR1IATOA', 'DR1IRET', 'DR1IVARA', 'DR1IACAR', 'DR1IBCAR', 'DR1ICRYP', 'DR1ILYCO', 'DR1ILZ', 'DR1IVB1', 'DR1IVB2', 'DR1INIAC', 'DR1IVB6', 'DR1IFOLA', 'DR1IFA', 'DR1IFF', 'DR1IFDFE', 'DR1ICHL', 'DR1IVB12', 'DR1IB12A', 'DR1IVC', 'DR1IVD', 'DR1IVK', 'DR1ICALC', 'DR1IPHOS', 'DR1IMAGN', 'DR1IIRON', 'DR1IZINC', 'DR1ICOPP', 'DR1ISODI', 'DR1IPOTA', 'DR1ISELE', 'DR1ICAFF', 'DR1ITHEO', 'DR1IALCO', 'DR1IMOIS', 'DR1IS040', 'DR1IS060', 'DR1IS080', 'DR1IS100', 'DR1IS120', 'DR1IS140', 'DR1IS160', 'DR1IS180', 'DR1IM161', 'DR1IM181', 'DR1IM201', 'DR1IM221', 'DR1IP182', 'DR1IP183', 'DR1IP184', 'DR1IP204', 'DR1IP205', 'DR1IP225', 'DR1IP226')\n",
      "./nhanes_output_data/outputfilestogether/2013-2014-2_Dietary Interview - Individual Foods, Second Day-DR2IFF_H.XPT.csv\n",
      "('SEQN', 'WTDRD1', 'WTDR2D', 'DR2ILINE', 'DR2DRSTZ', 'DR2EXMER', 'DRABF', 'DRDINT', 'DR2DBIH', 'DR2DAY', 'DR2LANG', 'DR2CCMNM', 'DR2CCMTX', 'DR2_020', 'DR2_030Z', 'DR2FS', 'DR2_040Z', 'DR2IFDCD', 'DR2IGRMS', 'DR2IKCAL', 'DR2IPROT', 'DR2ICARB', 'DR2ISUGR', 'DR2IFIBE', 'DR2ITFAT', 'DR2ISFAT', 'DR2IMFAT', 'DR2IPFAT', 'DR2ICHOL', 'DR2IATOC', 'DR2IATOA', 'DR2IRET', 'DR2IVARA', 'DR2IACAR', 'DR2IBCAR', 'DR2ICRYP', 'DR2ILYCO', 'DR2ILZ', 'DR2IVB1', 'DR2IVB2', 'DR2INIAC', 'DR2IVB6', 'DR2IFOLA', 'DR2IFA', 'DR2IFF', 'DR2IFDFE', 'DR2ICHL', 'DR2IVB12', 'DR2IB12A', 'DR2IVC', 'DR2IVD', 'DR2IVK', 'DR2ICALC', 'DR2IPHOS', 'DR2IMAGN', 'DR2IIRON', 'DR2IZINC', 'DR2ICOPP', 'DR2ISODI', 'DR2IPOTA', 'DR2ISELE', 'DR2ICAFF', 'DR2ITHEO', 'DR2IALCO', 'DR2IMOIS', 'DR2IS040', 'DR2IS060', 'DR2IS080', 'DR2IS100', 'DR2IS120', 'DR2IS140', 'DR2IS160', 'DR2IS180', 'DR2IM161', 'DR2IM181', 'DR2IM201', 'DR2IM221', 'DR2IP182', 'DR2IP183', 'DR2IP184', 'DR2IP204', 'DR2IP205', 'DR2IP225', 'DR2IP226')\n"
     ]
    },
    {
     "name": "stdout",
     "output_type": "stream",
     "text": [
      "./nhanes_output_data/outputfilestogether/2013-2014-3_Albumin & Creatinine - Urine_ALB_CR_H.XPT.csv\n",
      "('SEQN', 'URXUMA', 'URXUMS', 'URXUCR', 'URXCRS', 'URDACT')\n",
      "./nhanes_output_data/outputfilestogether/2011-2012-0_Demographic_Variables_Sample_Weights_DEMO_G.XPT.csv\n",
      "('SEQN', 'SDDSRVYR', 'RIDSTATR', 'RIAGENDR', 'RIDAGEYR', 'RIDAGEMN', 'RIDRETH1', 'RIDRETH3', 'RIDEXMON', 'RIDEXAGY', 'RIDEXAGM', 'DMQMILIZ', 'DMQADFC', 'DMDBORN4', 'DMDCITZN', 'DMDYRSUS', 'DMDEDUC3', 'DMDEDUC2', 'DMDMARTL', 'RIDEXPRG', 'SIALANG', 'SIAPROXY', 'SIAINTRP', 'FIALANG', 'FIAPROXY', 'FIAINTRP', 'MIALANG', 'MIAPROXY', 'MIAINTRP', 'AIALANGA', 'WTINT2YR', 'WTMEC2YR', 'SDMVPSU', 'SDMVSTRA', 'INDHHIN2', 'INDFMIN2', 'INDFMPIR', 'DMDHHSIZ', 'DMDFMSIZ', 'DMDHHSZA', 'DMDHHSZB', 'DMDHHSZE', 'DMDHRGND', 'DMDHRAGE', 'DMDHRBR4', 'DMDHREDU', 'DMDHRMAR', 'DMDHSEDU')\n",
      "./nhanes_output_data/outputfilestogether/2011-2012-1_Dietary Interview - Individual Foods, First Day-DR1IFF_G.XPT.csv\n",
      "('SEQN', 'WTDRD1', 'WTDR2D', 'DR1ILINE', 'DR1DRSTZ', 'DR1EXMER', 'DRABF', 'DRDINT', 'DR1DBIH', 'DR1DAY', 'DR1LANG', 'DR1CCMNM', 'DR1CCMTX', 'DR1_020', 'DR1_030Z', 'DR1FS', 'DR1_040Z', 'DR1IFDCD', 'DR1MC', 'DR1IGRMS', 'DR1IKCAL', 'DR1IPROT', 'DR1ICARB', 'DR1ISUGR', 'DR1IFIBE', 'DR1ITFAT', 'DR1ISFAT', 'DR1IMFAT', 'DR1IPFAT', 'DR1ICHOL', 'DR1IATOC', 'DR1IATOA', 'DR1IRET', 'DR1IVARA', 'DR1IACAR', 'DR1IBCAR', 'DR1ICRYP', 'DR1ILYCO', 'DR1ILZ', 'DR1IVB1', 'DR1IVB2', 'DR1INIAC', 'DR1IVB6', 'DR1IFOLA', 'DR1IFA', 'DR1IFF', 'DR1IFDFE', 'DR1ICHL', 'DR1IVB12', 'DR1IB12A', 'DR1IVC', 'DR1IVD', 'DR1IVK', 'DR1ICALC', 'DR1IPHOS', 'DR1IMAGN', 'DR1IIRON', 'DR1IZINC', 'DR1ICOPP', 'DR1ISODI', 'DR1IPOTA', 'DR1ISELE', 'DR1ICAFF', 'DR1ITHEO', 'DR1IALCO', 'DR1IMOIS', 'DR1IS040', 'DR1IS060', 'DR1IS080', 'DR1IS100', 'DR1IS120', 'DR1IS140', 'DR1IS160', 'DR1IS180', 'DR1IM161', 'DR1IM181', 'DR1IM201', 'DR1IM221', 'DR1IP182', 'DR1IP183', 'DR1IP184', 'DR1IP204', 'DR1IP205', 'DR1IP225', 'DR1IP226')\n",
      "./nhanes_output_data/outputfilestogether/2011-2012-2_Dietary Interview - Individual Foods, Second Day-DR2IFF_G.XPT.csv\n",
      "('SEQN', 'WTDRD1', 'WTDR2D', 'DR2ILINE', 'DR2DRSTZ', 'DR2EXMER', 'DRABF', 'DRDINT', 'DR2DBIH', 'DR2DAY', 'DR2LANG', 'DR2CCMNM', 'DR2CCMTX', 'DR2_020', 'DR2_030Z', 'DR2FS', 'DR2_040Z', 'DR2IFDCD', 'DR2MC', 'DR2IGRMS', 'DR2IKCAL', 'DR2IPROT', 'DR2ICARB', 'DR2ISUGR', 'DR2IFIBE', 'DR2ITFAT', 'DR2ISFAT', 'DR2IMFAT', 'DR2IPFAT', 'DR2ICHOL', 'DR2IATOC', 'DR2IATOA', 'DR2IRET', 'DR2IVARA', 'DR2IACAR', 'DR2IBCAR', 'DR2ICRYP', 'DR2ILYCO', 'DR2ILZ', 'DR2IVB1', 'DR2IVB2', 'DR2INIAC', 'DR2IVB6', 'DR2IFOLA', 'DR2IFA', 'DR2IFF', 'DR2IFDFE', 'DR2ICHL', 'DR2IVB12', 'DR2IB12A', 'DR2IVC', 'DR2IVD', 'DR2IVK', 'DR2ICALC', 'DR2IPHOS', 'DR2IMAGN', 'DR2IIRON', 'DR2IZINC', 'DR2ICOPP', 'DR2ISODI', 'DR2IPOTA', 'DR2ISELE', 'DR2ICAFF', 'DR2ITHEO', 'DR2IALCO', 'DR2IMOIS', 'DR2IS040', 'DR2IS060', 'DR2IS080', 'DR2IS100', 'DR2IS120', 'DR2IS140', 'DR2IS160', 'DR2IS180', 'DR2IM161', 'DR2IM181', 'DR2IM201', 'DR2IM221', 'DR2IP182', 'DR2IP183', 'DR2IP184', 'DR2IP204', 'DR2IP205', 'DR2IP225', 'DR2IP226')\n",
      "./nhanes_output_data/outputfilestogether/2011-2012-3_Albumin & Creatinine - Urine-ALB_CR_G.XPT.csv\n",
      "('SEQN', 'URXUMA', 'URXUMS', 'URXUCR', 'URXCRS', 'URDACT')\n"
     ]
    }
   ],
   "source": [
    "data_folder = './nhanes_input_data/'\n",
    "dataFiles = []\n",
    "\n",
    "for aYear in years:\n",
    "    #print(aYear)\n",
    "    aYearDataFolder = data_folder + aYear + \"-data/\"\n",
    "    aYearDataFormatFolder = data_folder + aYear + \"-data-format/\"\n",
    "    \n",
    "    dataFiles = os.listdir(aYearDataFolder)\n",
    "    \n",
    "    for aDataFile in dataFiles:\n",
    "        aDataFileWithPath = aYearDataFolder + aDataFile;\n",
    "        aFormatFile = aYearDataFormatFolder + str('data-format-') + aDataFile + '.txt';\n",
    "        # print(aDataFileWithPath);\n",
    "        # print(aFormatFile);\n",
    "                \n",
    "        if aDataFile == 'target-variable-data':\n",
    "            continue;\n",
    "                        \n",
    "        create_csv_from_xpt_data_and_data_format_file(aYear, aDataFile, aDataFileWithPath, aFormatFile)\n",
    "\n",
    "\n",
    "    \n",
    "    # print(aYearData);\n",
    "    # print(aYearDataFormatFolder);\n",
    "    \n",
    "# dataFiles   "
   ]
  },
  {
   "cell_type": "markdown",
   "metadata": {},
   "source": [
    "# Please ignore the code below"
   ]
  },
  {
   "cell_type": "markdown",
   "metadata": {},
   "source": [
    "# Please ignore the code below"
   ]
  },
  {
   "cell_type": "markdown",
   "metadata": {},
   "source": [
    "# Please ignore the code below"
   ]
  },
  {
   "cell_type": "markdown",
   "metadata": {},
   "source": [
    "# Please ignore the code below"
   ]
  },
  {
   "cell_type": "markdown",
   "metadata": {},
   "source": [
    "# Please ignore the code below"
   ]
  },
  {
   "cell_type": "markdown",
   "metadata": {},
   "source": [
    "# Please ignore the code below"
   ]
  },
  {
   "cell_type": "markdown",
   "metadata": {},
   "source": [
    "from __future__ import print_function\n",
    "from ipywidgets import interact, interactive, fixed, interact_manual\n",
    "import ipywidgets as widgets\n",
    "import os\n",
    "\n",
    "out_folder = './nhanes_output_data/' + year + \"/\"\n",
    "if purpose == 'target':\n",
    "    out_folder = out_folder + 'target_variable/'\n",
    "    \n",
    "data_folder = './nhanes_input_data/' + year + \"-data/\"\n",
    "\n",
    "if purpose == 'target':\n",
    "    data_folder = data_folder + 'target-variable-data/'\n",
    "\n",
    "diet_files = os.listdir(data_folder)\n",
    "diet_files[:4]"
   ]
  },
  {
   "cell_type": "markdown",
   "metadata": {},
   "source": [
    "# data format\n",
    "format_folder = './nhanes_input_data/' + year + '-data-format/'\n",
    "if purpose == 'target':\n",
    "    format_folder = format_folder + 'target-variable-format/'\n",
    "\n",
    "format_files = os.listdir(format_folder)\n",
    "format_files[:4]"
   ]
  },
  {
   "cell_type": "markdown",
   "metadata": {},
   "source": [
    "# conda install xport"
   ]
  },
  {
   "cell_type": "code",
   "execution_count": null,
   "metadata": {},
   "outputs": [],
   "source": []
  },
  {
   "cell_type": "markdown",
   "metadata": {},
   "source": [
    "f = open(data_folder + 'data_format_DR1IFF_I.txt', 'r')\n",
    "columns = ''\n",
    "for line in f:\n",
    "    columns += '\"' + line.strip() + '\"'+ ',' \n",
    "    \n",
    "columns += '\\n'    \n",
    "print(columns)"
   ]
  },
  {
   "cell_type": "markdown",
   "metadata": {},
   "source": [
    "print('Select a health measure/aspect to visualize\\n')\n",
    "# create the interactive interface\n",
    "def f(measure):\n",
    "    return measure\n",
    "\n",
    "print('Select a measure:')\n",
    "measure_file = interactive(f, measure = diet_files);\n",
    "display(measure_file)"
   ]
  },
  {
   "cell_type": "markdown",
   "metadata": {},
   "source": [
    "measure_file.result"
   ]
  },
  {
   "cell_type": "markdown",
   "metadata": {},
   "source": [
    "print('Select a format to visualize\\n')\n",
    "# create the interactive interface\n",
    "def f(format):\n",
    "    return format\n",
    "\n",
    "print('Select a data format:')\n",
    "format_file = interactive(f, format = format_files);\n",
    "display(format_file)"
   ]
  },
  {
   "cell_type": "markdown",
   "metadata": {},
   "source": [
    "format_file.result"
   ]
  },
  {
   "cell_type": "markdown",
   "metadata": {},
   "source": [
    "f = open(format_folder + format_file.result, 'r')\n",
    "columnsLong = ''\n",
    "for line in f:\n",
    "    columnsLong += '\"' + line.strip() + '\"'+ ',' \n",
    "    \n",
    "columnsLong += '\\n'    \n",
    "print(columnsLong)"
   ]
  },
  {
   "cell_type": "code",
   "execution_count": 6,
   "metadata": {},
   "outputs": [],
   "source": [
    "# start of new code"
   ]
  },
  {
   "cell_type": "markdown",
   "metadata": {},
   "source": [
    "data_file = data_folder + measure_file.result\n",
    "#measure_data = pd.read_excel(data_file)\n",
    "#measure_data = pd.ExcelFile('health-status.xls')\n",
    "#excel_file = pd.ExcelFile(data_file)\n",
    "#measure_data.head()\n",
    "#data_file\n",
    "\n",
    "# -----\n",
    "\n",
    "f = open(data_file, 'rb')\n",
    "row = xport.Reader(f)\n",
    "#print(list(row))\n",
    "#print(row.fields)\n",
    "columns_set = row.fields\n",
    "\n",
    "columns = ''\n",
    "for field in columns_set:\n",
    "    columns += '\"' + field.strip() + '\"'+ ',' \n",
    "    \n",
    "columns += '\\n'    \n",
    "#print(columns)\n",
    "\n",
    "\n",
    "f.close()\n",
    "#columns\n",
    "\n",
    "#--\n",
    "\n",
    "out_file = out_folder + measure_file.result + '.csv'\n",
    "print(out_file);\n",
    "# out = open('./nhanes_output_data/2015-2016/target-variable/0_Albumin-Creatinine-Urine-ALB_CR_I.XPT.csv', 'w');\n",
    "out = open(out_file, 'w')\n",
    "out.write(columns)\n",
    "out.write(columnsLong);\n",
    "\n",
    "\n",
    "      \n",
    "with open(data_file, 'rb') as f:\n",
    "    for row in xport.Reader(f):\n",
    "        #print(type(row))\n",
    "        #print (row)\n",
    "        row_str = ''\n",
    "        for aField in row:\n",
    "            row_str += '\"' + str(aField) + '\"' + ','            \n",
    "        row_str += '\\n'\n",
    "        #print (row_str)\n",
    "        out.write(row_str)\n",
    "        #break\n",
    "\n",
    "out.close()\n",
    "f.close()\n",
    "#---\n",
    "#out_file = out_folder + measure_file.result + '.csv'\n",
    "#out = open(out_file, 'w')\n",
    "#out.write(columns)\n",
    "\n",
    "f = open(data_file, 'rb')\n",
    "row = xport.Reader(f)\n",
    "#print(list(row))\n",
    "#print(row.fields)\n",
    "f.close()\n",
    "#--\n",
    "f = open(data_file, 'rb')\n",
    "row = xport.Reader(f)\n",
    "print(row.fields)\n",
    "f.close()\n",
    "#--\n",
    "with open(data_file, 'rb') as f:\n",
    "    columns = xport.to_columns(f)\n",
    "f.close()\n",
    "#columns\n",
    "#---\n",
    "with open(data_file, 'rb') as f:\n",
    "    columns = xport.to_numpy(f)\n",
    "f.close()    \n",
    "#columns\n",
    "#---\n"
   ]
  },
  {
   "cell_type": "markdown",
   "metadata": {},
   "source": [
    "# End of new code"
   ]
  },
  {
   "cell_type": "markdown",
   "metadata": {},
   "source": [
    "References\n",
    "\n",
    "https://pypi.org/project/xport/\n",
    "Codes in the column names: https://wwwn.cdc.gov/nchs/nhanes/Search/variablelist.aspx?Component=Dietary"
   ]
  },
  {
   "cell_type": "code",
   "execution_count": null,
   "metadata": {},
   "outputs": [],
   "source": []
  },
  {
   "cell_type": "code",
   "execution_count": null,
   "metadata": {},
   "outputs": [],
   "source": []
  },
  {
   "cell_type": "code",
   "execution_count": null,
   "metadata": {},
   "outputs": [],
   "source": []
  }
 ],
 "metadata": {
  "kernelspec": {
   "display_name": "Python 3 (ipykernel)",
   "language": "python",
   "name": "python3"
  },
  "language_info": {
   "codemirror_mode": {
    "name": "ipython",
    "version": 3
   },
   "file_extension": ".py",
   "mimetype": "text/x-python",
   "name": "python",
   "nbconvert_exporter": "python",
   "pygments_lexer": "ipython3",
   "version": "3.9.7"
  }
 },
 "nbformat": 4,
 "nbformat_minor": 2
}
