{
 "cells": [
  {
   "cell_type": "code",
   "execution_count": 1,
   "id": "6db82e7b",
   "metadata": {},
   "outputs": [],
   "source": [
    "import os;\n",
    "import glob;\n",
    "import pandas as pd;"
   ]
  },
  {
   "cell_type": "code",
   "execution_count": 2,
   "id": "2f9725ce",
   "metadata": {},
   "outputs": [
    {
     "data": {
      "text/plain": [
       "('./nhanes_input_data/dietaryIntakeDataForClassificationAndAnalysisData.csv',\n",
       " './nhanes_input_data/')"
      ]
     },
     "execution_count": 2,
     "metadata": {},
     "output_type": "execute_result"
    }
   ],
   "source": [
    "from __future__ import print_function\n",
    "from ipywidgets import interact, interactive, fixed, interact_manual\n",
    "import ipywidgets as widgets\n",
    "import os\n",
    "\n",
    "out_folder = './nhanes_output_data/classifiedGroups/'\n",
    "data_folder = './nhanes_input_data/'\n",
    "\n",
    "data_file = data_folder + 'dietaryIntakeDataForClassificationAndAnalysisData.csv';\n",
    "data_file, data_folder"
   ]
  },
  {
   "cell_type": "code",
   "execution_count": 3,
   "id": "65239e4b",
   "metadata": {},
   "outputs": [],
   "source": [
    "dietaryIntakeDataForClassificationAndAnalysisData = pd.read_csv(data_file, low_memory = False);\n",
    "#dietaryIntakeDataForClassificationAndAnalysisData.head()"
   ]
  },
  {
   "cell_type": "code",
   "execution_count": 4,
   "id": "a17b8590",
   "metadata": {},
   "outputs": [
    {
     "name": "stdout",
     "output_type": "stream",
     "text": [
      "(201101, 89)\n"
     ]
    }
   ],
   "source": [
    "print(dietaryIntakeDataForClassificationAndAnalysisData.shape);"
   ]
  },
  {
   "cell_type": "code",
   "execution_count": 5,
   "id": "7c7dcaa1",
   "metadata": {},
   "outputs": [],
   "source": [
    "# ***********************************  Class creation *****************************************"
   ]
  },
  {
   "cell_type": "markdown",
   "id": "06fd7e28",
   "metadata": {},
   "source": [
    "class1 = dietaryIntakeDataForClassificationAndAnalysisData [(combinedDietaryIntakeData['URDACT_Albumin_creatinine_ratio_mg_g'] < 3 ) ];\n",
    "print(class1.shape);\n",
    "class1 = class1 [(class1['RIDAGEYR_Age_in_years_at_screening'] < 30) ];\n",
    "print(class1.shape);"
   ]
  },
  {
   "cell_type": "code",
   "execution_count": 8,
   "id": "c4b774a1",
   "metadata": {},
   "outputs": [
    {
     "name": "stdout",
     "output_type": "stream",
     "text": [
      "31\n",
      "(7291, 89)\n",
      "(2686, 89)\n",
      "31\n",
      "(168251, 89)\n",
      "(65637, 89)\n",
      "31\n",
      "(25559, 89)\n",
      "(0, 89)\n",
      "61\n",
      "(0, 89)\n",
      "(0, 89)\n",
      "61\n",
      "(168251, 89)\n",
      "(126363, 89)\n",
      "61\n",
      "(25559, 89)\n",
      "(6944, 89)\n",
      "200\n",
      "(0, 89)\n",
      "(0, 89)\n",
      "200\n",
      "(168251, 89)\n",
      "(168251, 89)\n",
      "200\n",
      "(25559, 89)\n",
      "(18215, 89)\n"
     ]
    }
   ],
   "source": [
    "age_ranges_for_classification = [31, 61, 200];\n",
    "acr_ranges_for_classification = [3, 31, 100000];\n",
    "\n",
    "ageGroupStart = 0\n",
    "ageGroupEnd = age_ranges_for_classification[1];\n",
    "\n",
    "acrGroupStart = 0\n",
    "acrGroupEnd = age_ranges_for_classification[1];\n",
    "\n",
    "classSequence = 1;\n",
    "\n",
    "classOut = dietaryIntakeDataForClassificationAndAnalysisData [(dietaryIntakeDataForClassificationAndAnalysisData['URDACT_Albumin_creatinine_ratio_mg_g'] < acrGroupEnd ) ];\n",
    "            \n",
    "for ageGroup in age_ranges_for_classification:    \n",
    "    for acrGroup in acr_ranges_for_classification:\n",
    "        ageGroupEnd = ageGroup;\n",
    "        acrGroupEnd = acrGroup;\n",
    "        \n",
    "        print(ageGroupEnd);\n",
    "                                    \n",
    "        acrDemoClass = dietaryIntakeDataForClassificationAndAnalysisData [\n",
    "            ( dietaryIntakeDataForClassificationAndAnalysisData['URDACT_Albumin_creatinine_ratio_mg_g'] >= acrGroupStart ) \n",
    "            \n",
    "            &\n",
    "            \n",
    "            ( dietaryIntakeDataForClassificationAndAnalysisData['URDACT_Albumin_creatinine_ratio_mg_g'] < acrGroupEnd ) \n",
    "        ];\n",
    "        print(acrDemoClass.shape);\n",
    "        \n",
    "        acrDemoClass = acrDemoClass [\n",
    "            \n",
    "            (acrDemoClass['RIDAGEYR_Age_in_years_at_screening'] >= acrGroupStart ) \n",
    "                                    \n",
    "            &\n",
    "            \n",
    "            (acrDemoClass['RIDAGEYR_Age_in_years_at_screening'] < ageGroupEnd ) \n",
    "        \n",
    "        ];\n",
    "            \n",
    "        print(acrDemoClass.shape)        \n",
    "        acrDemoClass.to_csv(out_folder + str(classSequence) + \"_dietaryIntakeDataForClassificationAndAnalysisData.csv\");\n",
    "        \n",
    "        \n",
    "        ageGroupStart = ageGroupEnd;\n",
    "        acrGroupStart = acrGroupEnd;\n",
    "        \n",
    "        classSequence = classSequence + 1;"
   ]
  },
  {
   "cell_type": "code",
   "execution_count": null,
   "id": "d305d87a",
   "metadata": {},
   "outputs": [],
   "source": []
  }
 ],
 "metadata": {
  "kernelspec": {
   "display_name": "Python 3 (ipykernel)",
   "language": "python",
   "name": "python3"
  },
  "language_info": {
   "codemirror_mode": {
    "name": "ipython",
    "version": 3
   },
   "file_extension": ".py",
   "mimetype": "text/x-python",
   "name": "python",
   "nbconvert_exporter": "python",
   "pygments_lexer": "ipython3",
   "version": "3.9.7"
  }
 },
 "nbformat": 4,
 "nbformat_minor": 5
}
