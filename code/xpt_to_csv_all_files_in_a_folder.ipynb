{
 "cells": [
  {
   "cell_type": "markdown",
   "metadata": {},
   "source": [
    "# xport module need to be installed."
   ]
  },
  {
   "cell_type": "markdown",
   "metadata": {},
   "source": [
    "# xpt_to_csv_all_files_in_a_folder"
   ]
  },
  {
   "cell_type": "code",
   "execution_count": 1,
   "metadata": {},
   "outputs": [],
   "source": [
    "# The goal is to combine all these data together for various years\n",
    "\n",
    "# Demographics Data\n",
    "# food_01Dietary Data\n",
    "# medical_03Examination Data\n",
    "# lab_05Laboratory Data\n",
    "# chat_01Questionnaire Data\n",
    "# alert_02Limited Access Data"
   ]
  },
  {
   "cell_type": "code",
   "execution_count": 2,
   "metadata": {},
   "outputs": [],
   "source": [
    "purpose = ''\n",
    "year = '2011-2012'"
   ]
  },
  {
   "cell_type": "code",
   "execution_count": 3,
   "metadata": {},
   "outputs": [
    {
     "data": {
      "text/plain": [
       "['0_Demographic Variables & Sample Weights_DEMO_G.XPT',\n",
       " '1_Dietary Interview - Individual Foods, First Day-DR1IFF_G.XPT',\n",
       " '2_Dietary Interview - Individual Foods, Second Day-DR2IFF_G.XPT',\n",
       " 'target-variable-data']"
      ]
     },
     "execution_count": 3,
     "metadata": {},
     "output_type": "execute_result"
    }
   ],
   "source": [
    "from __future__ import print_function\n",
    "from ipywidgets import interact, interactive, fixed, interact_manual\n",
    "import ipywidgets as widgets\n",
    "import os\n",
    "\n",
    "out_folder = './nhanes_output_data/' + year + \"/\"\n",
    "if purpose == 'target':\n",
    "    out_folder = out_folder + 'target_variable/'\n",
    "    \n",
    "data_folder = './nhanes_input_data/' + year + \"-data/\"\n",
    "\n",
    "if purpose == 'target':\n",
    "    data_folder = data_folder + 'target-variable-data/'\n",
    "\n",
    "diet_files = os.listdir(data_folder)\n",
    "diet_files[:4]"
   ]
  },
  {
   "cell_type": "code",
   "execution_count": 4,
   "metadata": {},
   "outputs": [
    {
     "data": {
      "text/plain": [
       "['0_data_format_Demographic Variables & Sample Weights.txt',\n",
       " '1_data_format_Dietary Interview - Individual Foods, First Day.txt',\n",
       " '1_data_format_Dietary Interview - Individual Foods, First Day.txt.bak',\n",
       " '2_Dietary Interview - Individual Foods, Second Day.txt']"
      ]
     },
     "execution_count": 4,
     "metadata": {},
     "output_type": "execute_result"
    }
   ],
   "source": [
    "# data format\n",
    "format_folder = './nhanes_input_data/' + year + '-data-format/'\n",
    "if purpose == 'target':\n",
    "    format_folder = format_folder + 'target-variable-format/'\n",
    "\n",
    "format_files = os.listdir(format_folder)\n",
    "format_files[:4]"
   ]
  },
  {
   "cell_type": "code",
   "execution_count": 5,
   "metadata": {},
   "outputs": [],
   "source": [
    "# conda install xport"
   ]
  },
  {
   "cell_type": "code",
   "execution_count": 6,
   "metadata": {},
   "outputs": [],
   "source": [
    "import xport\n",
    "#import pandas as pd"
   ]
  },
  {
   "cell_type": "markdown",
   "metadata": {},
   "source": [
    "f = open(data_folder + 'data_format_DR1IFF_I.txt', 'r')\n",
    "columns = ''\n",
    "for line in f:\n",
    "    columns += '\"' + line.strip() + '\"'+ ',' \n",
    "    \n",
    "columns += '\\n'    \n",
    "print(columns)"
   ]
  },
  {
   "cell_type": "code",
   "execution_count": 7,
   "metadata": {},
   "outputs": [
    {
     "name": "stdout",
     "output_type": "stream",
     "text": [
      "Select a health measure/aspect to visualize\n",
      "\n",
      "Select a measure:\n"
     ]
    },
    {
     "data": {
      "application/vnd.jupyter.widget-view+json": {
       "model_id": "2c99f7dc959f44d6bc87e97810701dd7",
       "version_major": 2,
       "version_minor": 0
      },
      "text/plain": [
       "interactive(children=(Dropdown(description='measure', options=('0_Demographic Variables & Sample Weights_DEMO_…"
      ]
     },
     "metadata": {},
     "output_type": "display_data"
    }
   ],
   "source": [
    "print('Select a health measure/aspect to visualize\\n')\n",
    "# create the interactive interface\n",
    "def f(measure):\n",
    "    return measure\n",
    "\n",
    "print('Select a measure:')\n",
    "measure_file = interactive(f, measure = diet_files);\n",
    "display(measure_file)"
   ]
  },
  {
   "cell_type": "code",
   "execution_count": 15,
   "metadata": {},
   "outputs": [
    {
     "data": {
      "text/plain": [
       "'1_Dietary Interview - Individual Foods, First Day-DR1IFF_G.XPT'"
      ]
     },
     "execution_count": 15,
     "metadata": {},
     "output_type": "execute_result"
    }
   ],
   "source": [
    "measure_file.result"
   ]
  },
  {
   "cell_type": "code",
   "execution_count": 9,
   "metadata": {},
   "outputs": [
    {
     "name": "stdout",
     "output_type": "stream",
     "text": [
      "Select a format to visualize\n",
      "\n",
      "Select a data format:\n"
     ]
    },
    {
     "data": {
      "application/vnd.jupyter.widget-view+json": {
       "model_id": "a710f1c2172c4f11981e8766d95797c6",
       "version_major": 2,
       "version_minor": 0
      },
      "text/plain": [
       "interactive(children=(Dropdown(description='format', options=('0_data_format_Demographic Variables & Sample We…"
      ]
     },
     "metadata": {},
     "output_type": "display_data"
    }
   ],
   "source": [
    "print('Select a format to visualize\\n')\n",
    "# create the interactive interface\n",
    "def f(format):\n",
    "    return format\n",
    "\n",
    "print('Select a data format:')\n",
    "format_file = interactive(f, format = format_files);\n",
    "display(format_file)"
   ]
  },
  {
   "cell_type": "code",
   "execution_count": 16,
   "metadata": {},
   "outputs": [
    {
     "data": {
      "text/plain": [
       "'1_data_format_Dietary Interview - Individual Foods, First Day.txt'"
      ]
     },
     "execution_count": 16,
     "metadata": {},
     "output_type": "execute_result"
    }
   ],
   "source": [
    "format_file.result"
   ]
  },
  {
   "cell_type": "code",
   "execution_count": 17,
   "metadata": {},
   "outputs": [
    {
     "name": "stdout",
     "output_type": "stream",
     "text": [
      "\"SEQN - Respondent sequence number\",\"WTDRD1 - Dietary day one sample weight\",\"WTDR2D - Dietary two-day sample weight\",\"DR1ILINE - Food/Individual component number\",\"DR1DRSTZ - Dietary recall status\",\"DR1EXMER - Interviewer ID code\",\"DRABF - Breast-fed infant (either day)\",\"DRDINT - Number of days of intake\",\"DR1DBIH - # of days b/w intake and HH interview\",\"DR1DAY - Intake day of the week\",\"DR1LANG - Language respondent used mostly\",\"DR1CCMNM - Combination food number\",\"DR1CCMTX - Combination food type\",\"DR1_020 - Time of eating occasion (HH:MM)\",\"DR1_030Z - Name of eating occasion\",\"DR1FS - Source of food\",\"DR1_040Z - Did you eat this meal at home?\",\"DR1IFDCD - USDA food code\",\"DR1MC - Modification code\",\"DR1IGRMS - Grams\",\"DR1IKCAL - Energy (kcal)\",\"DR1IPROT - Protein (gm)\",\"DR1ICARB - Carbohydrate (gm)\",\"DR1ISUGR - Total sugars (gm)\",\"DR1IFIBE - Dietary fiber (gm)\",\"DR1ITFAT - Total fat (gm)\",\"DR1ISFAT - Total saturated fatty acids (gm)\",\"DR1IMFAT - Total monounsaturated fatty acids (gm)\",\"DR1IPFAT - Total polyunsaturated fatty acids (gm)\",\"DR1ICHOL - Cholesterol (mg)\",\"DR1IATOC - Vitamin E as alpha-tocopherol (mg)\",\"DR1IATOA - Added alpha-tocopherol (Vitamin E) (mg)\",\"DR1IRET - Retinol (mcg)\",\"DR1IVARA - Vitamin A -  RAE (mcg)\",\"DR1IACAR - Alpha-carotene (mcg)\",\"DR1IBCAR - Beta-carotene (mcg)\",\"DR1ICRYP - Beta-cryptoxanthin (mcg)\",\"DR1ILYCO - Lycopene (mcg)\",\"DR1ILZ - Lutein + zeaxanthin (mcg)\",\"DR1IVB1 - Thiamin (Vitamin B1) (mg)\",\"DR1IVB2 - Riboflavin (Vitamin B2) (mg)\",\"DR1INIAC - Niacin (mg)\",\"DR1IVB6 - Vitamin B6 (mg)\",\"DR1IFOLA - Total folate (mcg)\",\"DR1IFA - Folic acid (mcg)\",\"DR1IFF - Food folate (mcg)\",\"DR1IFDFE - Folate -  DFE (mcg)\",\"DR1ICHL - Total choline (mg)\",\"DR1IVB12 - Vitamin B12 (mcg)\",\"DR1IB12A - Added vitamin B12 (mcg)\",\"DR1IVC - Vitamin C (mg)\",\"DR1IVD - Vitamin D (D2 + D3) (mcg)\",\"DR1IVK - Vitamin K (mcg)\",\"DR1ICALC - Calcium (mg)\",\"DR1IPHOS - Phosphorus (mg)\",\"DR1IMAGN - Magnesium (mg)\",\"DR1IIRON - Iron (mg)\",\"DR1IZINC - Zinc (mg)\",\"DR1ICOPP - Copper (mg)\",\"DR1ISODI - Sodium (mg)\",\"DR1IPOTA - Potassium (mg)\",\"DR1ISELE - Selenium (mcg)\",\"DR1ICAFF - Caffeine (mg)\",\"DR1ITHEO - Theobromine (mg)\",\"DR1IALCO - Alcohol (gm)\",\"DR1IMOIS - Moisture (gm)\",\"DR1IS040 - SFA 4:0 (Butanoic) (gm)\",\"DR1IS060 - SFA 6:0 (Hexanoic) (gm)\",\"DR1IS080 - SFA 8:0 (Octanoic) (gm)\",\"DR1IS100 - SFA 10:0 (Decanoic) (gm)\",\"DR1IS120 - SFA 12:0 (Dodecanoic) (gm)\",\"DR1IS140 - SFA 14:0 (Tetradecanoic) (gm)\",\"DR1IS160 - SFA 16:0 (Hexadecanoic) (gm)\",\"DR1IS180 - SFA 18:0 (Octadecanoic) (gm)\",\"DR1IM161 - MFA 16:1 (Hexadecenoic) (gm)\",\"DR1IM181 - MFA 18:1 (Octadecenoic) (gm)\",\"DR1IM201 - MFA 20:1 (Eicosenoic) (gm)\",\"DR1IM221 - MFA 22:1 (Docosenoic) (gm)\",\"DR1IP182 - PFA 18:2 (Octadecadienoic) (gm)\",\"DR1IP183 - PFA 18:3 (Octadecatrienoic) (gm)\",\"DR1IP184 - PFA 18:4 (Octadecatetraenoic) (gm)\",\"DR1IP204 - PFA 20:4 (Eicosatetraenoic) (gm)\",\"DR1IP205 - PFA 20:5 (Eicosapentaenoic) (gm)\",\"DR1IP225 - PFA 22:5 (Docosapentaenoic) (gm)\",\"DR1IP226 - PFA 22:6 (Docosahexaenoic) (gm)\",\n",
      "\n"
     ]
    }
   ],
   "source": [
    "f = open(format_folder + format_file.result, 'r')\n",
    "columnsLong = ''\n",
    "for line in f:\n",
    "    columnsLong += '\"' + line.strip() + '\"'+ ',' \n",
    "    \n",
    "columnsLong += '\\n'    \n",
    "print(columnsLong)"
   ]
  },
  {
   "cell_type": "code",
   "execution_count": 18,
   "metadata": {},
   "outputs": [],
   "source": [
    "# start of new code"
   ]
  },
  {
   "cell_type": "code",
   "execution_count": 19,
   "metadata": {},
   "outputs": [
    {
     "name": "stdout",
     "output_type": "stream",
     "text": [
      "./nhanes_output_data/2011-2012/1_Dietary Interview - Individual Foods, First Day-DR1IFF_G.XPT.csv\n",
      "('SEQN', 'WTDRD1', 'WTDR2D', 'DR1ILINE', 'DR1DRSTZ', 'DR1EXMER', 'DRABF', 'DRDINT', 'DR1DBIH', 'DR1DAY', 'DR1LANG', 'DR1CCMNM', 'DR1CCMTX', 'DR1_020', 'DR1_030Z', 'DR1FS', 'DR1_040Z', 'DR1IFDCD', 'DR1MC', 'DR1IGRMS', 'DR1IKCAL', 'DR1IPROT', 'DR1ICARB', 'DR1ISUGR', 'DR1IFIBE', 'DR1ITFAT', 'DR1ISFAT', 'DR1IMFAT', 'DR1IPFAT', 'DR1ICHOL', 'DR1IATOC', 'DR1IATOA', 'DR1IRET', 'DR1IVARA', 'DR1IACAR', 'DR1IBCAR', 'DR1ICRYP', 'DR1ILYCO', 'DR1ILZ', 'DR1IVB1', 'DR1IVB2', 'DR1INIAC', 'DR1IVB6', 'DR1IFOLA', 'DR1IFA', 'DR1IFF', 'DR1IFDFE', 'DR1ICHL', 'DR1IVB12', 'DR1IB12A', 'DR1IVC', 'DR1IVD', 'DR1IVK', 'DR1ICALC', 'DR1IPHOS', 'DR1IMAGN', 'DR1IIRON', 'DR1IZINC', 'DR1ICOPP', 'DR1ISODI', 'DR1IPOTA', 'DR1ISELE', 'DR1ICAFF', 'DR1ITHEO', 'DR1IALCO', 'DR1IMOIS', 'DR1IS040', 'DR1IS060', 'DR1IS080', 'DR1IS100', 'DR1IS120', 'DR1IS140', 'DR1IS160', 'DR1IS180', 'DR1IM161', 'DR1IM181', 'DR1IM201', 'DR1IM221', 'DR1IP182', 'DR1IP183', 'DR1IP184', 'DR1IP204', 'DR1IP205', 'DR1IP225', 'DR1IP226')\n"
     ]
    }
   ],
   "source": [
    "data_file = data_folder + measure_file.result\n",
    "#measure_data = pd.read_excel(data_file)\n",
    "#measure_data = pd.ExcelFile('health-status.xls')\n",
    "#excel_file = pd.ExcelFile(data_file)\n",
    "#measure_data.head()\n",
    "#data_file\n",
    "\n",
    "# -----\n",
    "\n",
    "f = open(data_file, 'rb')\n",
    "row = xport.Reader(f)\n",
    "#print(list(row))\n",
    "#print(row.fields)\n",
    "columns_set = row.fields\n",
    "\n",
    "columns = ''\n",
    "for field in columns_set:\n",
    "    columns += '\"' + field.strip() + '\"'+ ',' \n",
    "    \n",
    "columns += '\\n'    \n",
    "#print(columns)\n",
    "\n",
    "\n",
    "f.close()\n",
    "#columns\n",
    "\n",
    "#--\n",
    "\n",
    "out_file = out_folder + measure_file.result + '.csv'\n",
    "print(out_file);\n",
    "# out = open('./nhanes_output_data/2015-2016/target-variable/0_Albumin-Creatinine-Urine-ALB_CR_I.XPT.csv', 'w');\n",
    "out = open(out_file, 'w')\n",
    "out.write(columns)\n",
    "out.write(columnsLong);\n",
    "\n",
    "\n",
    "      \n",
    "with open(data_file, 'rb') as f:\n",
    "    for row in xport.Reader(f):\n",
    "        #print(type(row))\n",
    "        #print (row)\n",
    "        row_str = ''\n",
    "        for aField in row:\n",
    "            row_str += '\"' + str(aField) + '\"' + ','            \n",
    "        row_str += '\\n'\n",
    "        #print (row_str)\n",
    "        out.write(row_str)\n",
    "        #break\n",
    "\n",
    "out.close()\n",
    "f.close()\n",
    "#---\n",
    "#out_file = out_folder + measure_file.result + '.csv'\n",
    "#out = open(out_file, 'w')\n",
    "#out.write(columns)\n",
    "\n",
    "f = open(data_file, 'rb')\n",
    "row = xport.Reader(f)\n",
    "#print(list(row))\n",
    "#print(row.fields)\n",
    "f.close()\n",
    "#--\n",
    "f = open(data_file, 'rb')\n",
    "row = xport.Reader(f)\n",
    "print(row.fields)\n",
    "f.close()\n",
    "#--\n",
    "with open(data_file, 'rb') as f:\n",
    "    columns = xport.to_columns(f)\n",
    "f.close()\n",
    "#columns\n",
    "#---\n",
    "with open(data_file, 'rb') as f:\n",
    "    columns = xport.to_numpy(f)\n",
    "f.close()    \n",
    "#columns\n",
    "#---\n"
   ]
  },
  {
   "cell_type": "code",
   "execution_count": 14,
   "metadata": {},
   "outputs": [],
   "source": [
    "# End of new code"
   ]
  },
  {
   "cell_type": "markdown",
   "metadata": {},
   "source": [
    "References\n",
    "\n",
    "https://pypi.org/project/xport/\n",
    "Codes in the column names: https://wwwn.cdc.gov/nchs/nhanes/Search/variablelist.aspx?Component=Dietary"
   ]
  },
  {
   "cell_type": "code",
   "execution_count": null,
   "metadata": {},
   "outputs": [],
   "source": []
  },
  {
   "cell_type": "code",
   "execution_count": null,
   "metadata": {},
   "outputs": [],
   "source": []
  },
  {
   "cell_type": "code",
   "execution_count": null,
   "metadata": {},
   "outputs": [],
   "source": []
  }
 ],
 "metadata": {
  "kernelspec": {
   "display_name": "Python 3 (ipykernel)",
   "language": "python",
   "name": "python3"
  },
  "language_info": {
   "codemirror_mode": {
    "name": "ipython",
    "version": 3
   },
   "file_extension": ".py",
   "mimetype": "text/x-python",
   "name": "python",
   "nbconvert_exporter": "python",
   "pygments_lexer": "ipython3",
   "version": "3.9.7"
  }
 },
 "nbformat": 4,
 "nbformat_minor": 2
}
