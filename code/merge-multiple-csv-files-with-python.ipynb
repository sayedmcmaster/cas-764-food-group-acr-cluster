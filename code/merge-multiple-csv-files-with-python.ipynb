{
 "cells": [
  {
   "cell_type": "code",
   "execution_count": 1,
   "metadata": {},
   "outputs": [],
   "source": [
    "import os\n",
    "import glob\n",
    "import pandas as pd\n",
    "data_folder = './nhanes_output_data/outputfilestogether'\n",
    "os.chdir(data_folder)"
   ]
  },
  {
   "cell_type": "code",
   "execution_count": 4,
   "metadata": {},
   "outputs": [],
   "source": [
    "fileTypesToMerge = 'Albumin' # Dem Albumin  or Dietary "
   ]
  },
  {
   "cell_type": "code",
   "execution_count": 5,
   "metadata": {},
   "outputs": [
    {
     "data": {
      "text/plain": [
       "['2011-2012-3_Albumin & Creatinine - Urine-ALB_CR_G.XPT.csv',\n",
       " '2013-2014-3_Albumin & Creatinine - Urine_ALB_CR_H.XPT.csv',\n",
       " '2015-2016-3_Albumin & Creatinine - Urine-ALB_CR_I.XPT.csv',\n",
       " '2017-2018-3_Albumin & Creatinine - Urine-ALB_CR_J.XPT.csv']"
      ]
     },
     "execution_count": 5,
     "metadata": {},
     "output_type": "execute_result"
    }
   ],
   "source": [
    "extension = 'csv';\n",
    "all_filenames = [i for i in glob.glob('*' + fileTypesToMerge + '*.{}'.format(extension))]\n",
    "all_filenames"
   ]
  },
  {
   "cell_type": "code",
   "execution_count": 6,
   "metadata": {},
   "outputs": [
    {
     "data": {
      "text/plain": [
       "32660"
      ]
     },
     "execution_count": 6,
     "metadata": {},
     "output_type": "execute_result"
    }
   ],
   "source": [
    "row_total_count = 0\n",
    "for f in all_filenames:\n",
    "    df_s = pd.read_csv(f)\n",
    "    row_total_count += df_s.shape[0]\n",
    "\n",
    "row_total_count"
   ]
  },
  {
   "cell_type": "code",
   "execution_count": 7,
   "metadata": {},
   "outputs": [
    {
     "name": "stdout",
     "output_type": "stream",
     "text": [
      "2011-2012-3_Albumin & Creatinine - Urine-ALB_CR_G.XPT.csv\n",
      "                                SEQN                           URXUMA  \\\n",
      "0  SEQN - Respondent sequence number  URXUMA - Albumin, urine (ug/mL)   \n",
      "\n",
      "                           URXUMS                              URXUCR  \\\n",
      "0  URXUMS - Albumin, urine (mg/L)  URXUCR - Creatinine, urine (mg/dL)   \n",
      "\n",
      "                                URXCRS  \\\n",
      "0  URXCRS - Creatinine, urine (umol/L)   \n",
      "\n",
      "                                     URDACT  Unnamed: 6  \n",
      "0  URDACT - Albumin creatinine ratio (mg/g)         NaN  \n",
      "2013-2014-3_Albumin & Creatinine - Urine_ALB_CR_H.XPT.csv\n",
      "                                SEQN                           URXUMA  \\\n",
      "0  SEQN - Respondent sequence number  URXUMA - Albumin, urine (ug/mL)   \n",
      "\n",
      "                           URXUMS                              URXUCR  \\\n",
      "0  URXUMS - Albumin, urine (mg/L)  URXUCR - Creatinine, urine (mg/dL)   \n",
      "\n",
      "                                URXCRS  \\\n",
      "0  URXCRS - Creatinine, urine (umol/L)   \n",
      "\n",
      "                                     URDACT  Unnamed: 6  \n",
      "0  URDACT - Albumin creatinine ratio (mg/g)         NaN  \n",
      "2015-2016-3_Albumin & Creatinine - Urine-ALB_CR_I.XPT.csv\n",
      "                                SEQN                           URXUMA  \\\n",
      "0  SEQN - Respondent sequence number  URXUMA - Albumin, urine (ug/mL)   \n",
      "\n",
      "                                 URDUMALC                          URXUMS  \\\n",
      "0  URDUMALC - Albumin, urine comment code  URXUMS - Albumin, urine (mg/L)   \n",
      "\n",
      "                               URXUCR  \\\n",
      "0  URXUCR - Creatinine, urine (mg/dL)   \n",
      "\n",
      "                                    URDUCRLC  \\\n",
      "0  URDUCRLC - Creatinine, urine comment code   \n",
      "\n",
      "                                URXCRS  \\\n",
      "0  URXCRS - Creatinine, urine (umol/L)   \n",
      "\n",
      "                                     URDACT  Unnamed: 8  \n",
      "0  URDACT - Albumin creatinine ratio (mg/g)         NaN  \n",
      "2017-2018-3_Albumin & Creatinine - Urine-ALB_CR_J.XPT.csv\n",
      "                                SEQN                           URXUMA  \\\n",
      "0  SEQN - Respondent sequence number  URXUMA - Albumin, urine (ug/mL)   \n",
      "\n",
      "                           URXUMS                                URDUMALC  \\\n",
      "0  URXUMS - Albumin, urine (mg/L)  URDUMALC - Albumin, urine comment code   \n",
      "\n",
      "                               URXUCR                               URXCRS  \\\n",
      "0  URXUCR - Creatinine, urine (mg/dL)  URXCRS - Creatinine, urine (umol/L)   \n",
      "\n",
      "                                    URDUCRLC  \\\n",
      "0  URDUCRLC - Creatinine, urine comment code   \n",
      "\n",
      "                                     URDACT  Unnamed: 8  \n",
      "0  URDACT - Albumin creatinine ratio (mg/g)         NaN  \n"
     ]
    }
   ],
   "source": [
    "for f in all_filenames:\n",
    "  df = pd.read_csv(f)\n",
    "  print(f);\n",
    "  print(df.head(1));"
   ]
  },
  {
   "cell_type": "code",
   "execution_count": 14,
   "metadata": {},
   "outputs": [
    {
     "data": {
      "text/plain": [
       "['2011-2012-0_Demographic_Variables_Sample_Weights_DEMO_G.XPT.csv',\n",
       " '2011-2012-1_Dietary Interview - Individual Foods, First Day-DR1IFF_G.XPT.csv',\n",
       " '2011-2012-2_Dietary Interview - Individual Foods, Second Day-DR2IFF_G.XPT.csv',\n",
       " '2011-2012-3_Albumin & Creatinine - Urine-ALB_CR_G.XPT.csv',\n",
       " '2013-2014-0_Demographic Variables and Sample Weights-DEMO_H.XPT.csv',\n",
       " '2013-2014-1_Dietary Interview - Individual Foods, First Day-DR1IFF_H.XPT.csv',\n",
       " '2013-2014-2_Dietary Interview - Individual Foods, Second Day-DR2IFF_H.XPT.csv',\n",
       " '2013-2014-3_Albumin & Creatinine - Urine_ALB_CR_H.XPT.csv',\n",
       " '2015-2016-0_Demographic Variables and Sample Weights-DEMO_I.XPT.csv',\n",
       " '2015-2016-1_Dietary Interview - Individual Foods, First Day_DR1IFF_I.XPT.csv',\n",
       " '2015-2016-2_Dietary Interview - Individual Foods, First Day-DR2IFF_I.XPT.csv',\n",
       " '2015-2016-3_Albumin & Creatinine - Urine-ALB_CR_I.XPT.csv',\n",
       " '2017-2018-0_demographics-DEMO_J.XPT.csv',\n",
       " '2017-2018-1_Dietary Interview - Individual Foods, First Day_DR1IFF_J.XPT.csv',\n",
       " '2017-2018-2_Dietary Interview - Individual Foods, Second Day_DR2IFF_J.XPT.csv',\n",
       " '2017-2018-3_Albumin & Creatinine - Urine-ALB_CR_J.XPT.csv',\n",
       " 'all-merged.csv']"
      ]
     },
     "execution_count": 14,
     "metadata": {},
     "output_type": "execute_result"
    }
   ],
   "source": [
    "os.listdir('./')"
   ]
  },
  {
   "cell_type": "code",
   "execution_count": 16,
   "metadata": {},
   "outputs": [],
   "source": [
    "#combine all files in the list\n",
    "combined_csv = pd.concat([pd.read_csv(f) for f in all_filenames])\n",
    "\n",
    "\n",
    "\n",
    "#export to csv\n",
    "combined_csv.to_csv( \"../merged_files/\" + fileTypesToMerge + \"-all-merged.csv\", index=False, encoding='utf-8-sig')"
   ]
  },
  {
   "cell_type": "code",
   "execution_count": 17,
   "metadata": {},
   "outputs": [
    {
     "data": {
      "text/html": [
       "<div>\n",
       "<style scoped>\n",
       "    .dataframe tbody tr th:only-of-type {\n",
       "        vertical-align: middle;\n",
       "    }\n",
       "\n",
       "    .dataframe tbody tr th {\n",
       "        vertical-align: top;\n",
       "    }\n",
       "\n",
       "    .dataframe thead th {\n",
       "        text-align: right;\n",
       "    }\n",
       "</style>\n",
       "<table border=\"1\" class=\"dataframe\">\n",
       "  <thead>\n",
       "    <tr style=\"text-align: right;\">\n",
       "      <th></th>\n",
       "      <th>SEQN</th>\n",
       "      <th>URXUMA</th>\n",
       "      <th>URXUMS</th>\n",
       "      <th>URXUCR</th>\n",
       "      <th>URXCRS</th>\n",
       "      <th>URDACT</th>\n",
       "      <th>Unnamed: 6</th>\n",
       "      <th>URDUMALC</th>\n",
       "      <th>URDUCRLC</th>\n",
       "      <th>Unnamed: 8</th>\n",
       "    </tr>\n",
       "  </thead>\n",
       "  <tbody>\n",
       "    <tr>\n",
       "      <th>0</th>\n",
       "      <td>SEQN - Respondent sequence number</td>\n",
       "      <td>URXUMA - Albumin, urine (ug/mL)</td>\n",
       "      <td>URXUMS - Albumin, urine (mg/L)</td>\n",
       "      <td>URXUCR - Creatinine, urine (mg/dL)</td>\n",
       "      <td>URXCRS - Creatinine, urine (umol/L)</td>\n",
       "      <td>URDACT - Albumin creatinine ratio (mg/g)</td>\n",
       "      <td>NaN</td>\n",
       "      <td>NaN</td>\n",
       "      <td>NaN</td>\n",
       "      <td>NaN</td>\n",
       "    </tr>\n",
       "    <tr>\n",
       "      <th>1</th>\n",
       "      <td>62161.0</td>\n",
       "      <td>5.2</td>\n",
       "      <td>5.2</td>\n",
       "      <td>134.0</td>\n",
       "      <td>11845.6</td>\n",
       "      <td>3.88</td>\n",
       "      <td>NaN</td>\n",
       "      <td>NaN</td>\n",
       "      <td>NaN</td>\n",
       "      <td>NaN</td>\n",
       "    </tr>\n",
       "    <tr>\n",
       "      <th>2</th>\n",
       "      <td>62163.0</td>\n",
       "      <td>21.4</td>\n",
       "      <td>21.4</td>\n",
       "      <td>182.0</td>\n",
       "      <td>16088.8</td>\n",
       "      <td>11.76</td>\n",
       "      <td>NaN</td>\n",
       "      <td>NaN</td>\n",
       "      <td>NaN</td>\n",
       "      <td>NaN</td>\n",
       "    </tr>\n",
       "    <tr>\n",
       "      <th>3</th>\n",
       "      <td>62164.0</td>\n",
       "      <td>14.2</td>\n",
       "      <td>14.2</td>\n",
       "      <td>166.0</td>\n",
       "      <td>14674.4</td>\n",
       "      <td>8.55</td>\n",
       "      <td>NaN</td>\n",
       "      <td>NaN</td>\n",
       "      <td>NaN</td>\n",
       "      <td>NaN</td>\n",
       "    </tr>\n",
       "    <tr>\n",
       "      <th>4</th>\n",
       "      <td>62165.0</td>\n",
       "      <td>25.5</td>\n",
       "      <td>25.5</td>\n",
       "      <td>41.0</td>\n",
       "      <td>3624.4</td>\n",
       "      <td>62.2</td>\n",
       "      <td>NaN</td>\n",
       "      <td>NaN</td>\n",
       "      <td>NaN</td>\n",
       "      <td>NaN</td>\n",
       "    </tr>\n",
       "  </tbody>\n",
       "</table>\n",
       "</div>"
      ],
      "text/plain": [
       "                                SEQN                           URXUMA  \\\n",
       "0  SEQN - Respondent sequence number  URXUMA - Albumin, urine (ug/mL)   \n",
       "1                            62161.0                              5.2   \n",
       "2                            62163.0                             21.4   \n",
       "3                            62164.0                             14.2   \n",
       "4                            62165.0                             25.5   \n",
       "\n",
       "                           URXUMS                              URXUCR  \\\n",
       "0  URXUMS - Albumin, urine (mg/L)  URXUCR - Creatinine, urine (mg/dL)   \n",
       "1                             5.2                               134.0   \n",
       "2                            21.4                               182.0   \n",
       "3                            14.2                               166.0   \n",
       "4                            25.5                                41.0   \n",
       "\n",
       "                                URXCRS  \\\n",
       "0  URXCRS - Creatinine, urine (umol/L)   \n",
       "1                              11845.6   \n",
       "2                              16088.8   \n",
       "3                              14674.4   \n",
       "4                               3624.4   \n",
       "\n",
       "                                     URDACT  Unnamed: 6 URDUMALC URDUCRLC  \\\n",
       "0  URDACT - Albumin creatinine ratio (mg/g)         NaN      NaN      NaN   \n",
       "1                                      3.88         NaN      NaN      NaN   \n",
       "2                                     11.76         NaN      NaN      NaN   \n",
       "3                                      8.55         NaN      NaN      NaN   \n",
       "4                                      62.2         NaN      NaN      NaN   \n",
       "\n",
       "   Unnamed: 8  \n",
       "0         NaN  \n",
       "1         NaN  \n",
       "2         NaN  \n",
       "3         NaN  \n",
       "4         NaN  "
      ]
     },
     "execution_count": 17,
     "metadata": {},
     "output_type": "execute_result"
    }
   ],
   "source": [
    "df = pd.read_csv('./all-merged.csv')\n",
    "df.tail()\n",
    "\n",
    "df.head()"
   ]
  },
  {
   "cell_type": "code",
   "execution_count": 18,
   "metadata": {},
   "outputs": [
    {
     "data": {
      "text/plain": [
       "(32660, 10)"
      ]
     },
     "execution_count": 18,
     "metadata": {},
     "output_type": "execute_result"
    }
   ],
   "source": [
    "df.shape"
   ]
  },
  {
   "cell_type": "code",
   "execution_count": null,
   "metadata": {},
   "outputs": [],
   "source": []
  }
 ],
 "metadata": {
  "kernelspec": {
   "display_name": "Python 3 (ipykernel)",
   "language": "python",
   "name": "python3"
  },
  "language_info": {
   "codemirror_mode": {
    "name": "ipython",
    "version": 3
   },
   "file_extension": ".py",
   "mimetype": "text/x-python",
   "name": "python",
   "nbconvert_exporter": "python",
   "pygments_lexer": "ipython3",
   "version": "3.9.7"
  }
 },
 "nbformat": 4,
 "nbformat_minor": 2
}
