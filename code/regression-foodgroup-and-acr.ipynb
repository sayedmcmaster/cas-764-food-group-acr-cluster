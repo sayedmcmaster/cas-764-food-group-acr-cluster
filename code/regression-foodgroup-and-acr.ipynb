{
 "cells": [
  {
   "cell_type": "markdown",
   "metadata": {},
   "source": [
    "# import libraries"
   ]
  },
  {
   "cell_type": "code",
   "execution_count": 1,
   "metadata": {},
   "outputs": [],
   "source": [
    "import numpy as np\n",
    "import pandas as pd\n",
    "import seaborn as sns\n",
    "import matplotlib.pyplot as plt\n",
    "%matplotlib inline"
   ]
  },
  {
   "cell_type": "code",
   "execution_count": 2,
   "metadata": {},
   "outputs": [],
   "source": [
    "import warnings\n",
    "warnings.filterwarnings('ignore')\n",
    "\n",
    "pd.set_option('display.max_rows', 20)\n",
    "pd.set_option('display.max_columns', 500)\n",
    "# pd.set_option('display.width', 1000)"
   ]
  },
  {
   "cell_type": "code",
   "execution_count": 3,
   "metadata": {},
   "outputs": [],
   "source": [
    "classForAnalysis = 0"
   ]
  },
  {
   "cell_type": "code",
   "execution_count": 4,
   "metadata": {},
   "outputs": [
    {
     "data": {
      "text/html": [
       "<div>\n",
       "<style scoped>\n",
       "    .dataframe tbody tr th:only-of-type {\n",
       "        vertical-align: middle;\n",
       "    }\n",
       "\n",
       "    .dataframe tbody tr th {\n",
       "        vertical-align: top;\n",
       "    }\n",
       "\n",
       "    .dataframe thead th {\n",
       "        text-align: right;\n",
       "    }\n",
       "</style>\n",
       "<table border=\"1\" class=\"dataframe\">\n",
       "  <thead>\n",
       "    <tr style=\"text-align: right;\">\n",
       "      <th></th>\n",
       "      <th>RIDAGEYR_Age_in_years_at_screening</th>\n",
       "      <th>URDACT_Albumin_creatinine_ratio_mg_g</th>\n",
       "      <th>DataYear</th>\n",
       "      <th>SEQN - Respondent sequence number</th>\n",
       "      <th>WTDRD1 - Dietary day one sample weight</th>\n",
       "      <th>WTDR2D - Dietary two-day sample weight</th>\n",
       "      <th>DR1ILINE - Food/Individual component number</th>\n",
       "      <th>DR1DRSTZ - Dietary recall status</th>\n",
       "      <th>DR1EXMER - Interviewer ID code</th>\n",
       "      <th>DRABF - Breast-fed infant (either day)</th>\n",
       "      <th>DRDINT - Number of days of intake</th>\n",
       "      <th>DR1DBIH - # of days b/w intake and HH interview</th>\n",
       "      <th>DR1DAY - Intake day of the week</th>\n",
       "      <th>DR1LANG - Language respondent used mostly</th>\n",
       "      <th>DR1CCMNM - Combination food number</th>\n",
       "      <th>DR1CCMTX - Combination food type</th>\n",
       "      <th>DR1_020 - Time of eating occasion (HH:MM)</th>\n",
       "      <th>DR1_030Z - Name of eating occasion</th>\n",
       "      <th>DR1FS - Source of food</th>\n",
       "      <th>DR1_040Z - Did you eat this meal at home?</th>\n",
       "      <th>DR1IFDCD - USDA food code</th>\n",
       "      <th>DR1IGRMS - Grams</th>\n",
       "      <th>DR1IKCAL - Energy (kcal)</th>\n",
       "      <th>DR1IPROT - Protein (gm)</th>\n",
       "      <th>DR1ICARB - Carbohydrate (gm)</th>\n",
       "      <th>DR1ISUGR - Total sugars (gm)</th>\n",
       "      <th>DR1IFIBE - Dietary fiber (gm)</th>\n",
       "      <th>DR1ITFAT - Total fat (gm)</th>\n",
       "      <th>DR1ISFAT - Total saturated fatty acids (gm)</th>\n",
       "      <th>DR1IMFAT - Total monounsaturated fatty acids (gm)</th>\n",
       "      <th>DR1IPFAT - Total polyunsaturated fatty acids (gm)</th>\n",
       "      <th>DR1ICHOL - Cholesterol (mg)</th>\n",
       "      <th>DR1IATOC - Vitamin E as alpha-tocopherol (mg)</th>\n",
       "      <th>DR1IATOA - Added alpha-tocopherol (Vitamin E) (mg)</th>\n",
       "      <th>DR1IRET - Retinol (mcg)</th>\n",
       "      <th>DR1IVARA - Vitamin A, RAE (mcg)</th>\n",
       "      <th>DR1IACAR - Alpha-carotene (mcg)</th>\n",
       "      <th>DR1IBCAR - Beta-carotene (mcg)</th>\n",
       "      <th>DR1ICRYP - Beta-cryptoxanthin (mcg)</th>\n",
       "      <th>DR1ILYCO - Lycopene (mcg)</th>\n",
       "      <th>DR1ILZ - Lutein + zeaxanthin (mcg)</th>\n",
       "      <th>DR1IVB1 - Thiamin (Vitamin B1) (mg)</th>\n",
       "      <th>DR1IVB2 - Riboflavin (Vitamin B2) (mg)</th>\n",
       "      <th>DR1INIAC - Niacin (mg)</th>\n",
       "      <th>DR1IVB6 - Vitamin B6 (mg)</th>\n",
       "      <th>DR1IFOLA - Total folate (mcg)</th>\n",
       "      <th>DR1IFA - Folic acid (mcg)</th>\n",
       "      <th>DR1IFF - Food folate (mcg)</th>\n",
       "      <th>DR1IFDFE - Folate, DFE (mcg)</th>\n",
       "      <th>DR1ICHL - Total choline (mg)</th>\n",
       "      <th>DR1IVB12 - Vitamin B12 (mcg)</th>\n",
       "      <th>DR1IB12A - Added vitamin B12 (mcg)</th>\n",
       "      <th>DR1IVC - Vitamin C (mg)</th>\n",
       "      <th>DR1IVD - Vitamin D (D2 + D3) (mcg)</th>\n",
       "      <th>DR1IVK - Vitamin K (mcg)</th>\n",
       "      <th>DR1ICALC - Calcium (mg)</th>\n",
       "      <th>DR1IPHOS - Phosphorus (mg)</th>\n",
       "      <th>DR1IMAGN - Magnesium (mg)</th>\n",
       "      <th>DR1IIRON - Iron (mg)</th>\n",
       "      <th>DR1IZINC - Zinc (mg)</th>\n",
       "      <th>DR1ICOPP - Copper (mg)</th>\n",
       "      <th>DR1ISODI - Sodium (mg)</th>\n",
       "      <th>DR1IPOTA - Potassium (mg)</th>\n",
       "      <th>DR1ISELE - Selenium (mcg)</th>\n",
       "      <th>DR1ICAFF - Caffeine (mg)</th>\n",
       "      <th>DR1ITHEO - Theobromine (mg)</th>\n",
       "      <th>DR1IALCO - Alcohol (gm)</th>\n",
       "      <th>DR1IMOIS - Moisture (gm)</th>\n",
       "      <th>DR1IS040 - SFA 4:0 (Butanoic) (gm)</th>\n",
       "      <th>DR1IS060 - SFA 6:0 (Hexanoic) (gm)</th>\n",
       "      <th>DR1IS080 - SFA 8:0 (Octanoic) (gm)</th>\n",
       "      <th>DR1IS100 - SFA 10:0 (Decanoic) (gm)</th>\n",
       "      <th>DR1IS120 - SFA 12:0 (Dodecanoic) (gm)</th>\n",
       "      <th>DR1IS140 - SFA 14:0 (Tetradecanoic) (gm)</th>\n",
       "      <th>DR1IS160 - SFA 16:0 (Hexadecanoic) (gm)</th>\n",
       "      <th>DR1IS180 - SFA 18:0 (Octadecanoic) (gm)</th>\n",
       "      <th>DR1IM161 - MFA 16:1 (Hexadecenoic) (gm)</th>\n",
       "      <th>DR1IM181 - MFA 18:1 (Octadecenoic) (gm)</th>\n",
       "      <th>DR1IM201 - MFA 20:1 (Eicosenoic) (gm)</th>\n",
       "      <th>DR1IM221 - MFA 22:1 (Docosenoic) (gm)</th>\n",
       "      <th>DR1IP182 - PFA 18:2 (Octadecadienoic) (gm)</th>\n",
       "      <th>DR1IP183 - PFA 18:3 (Octadecatrienoic) (gm)</th>\n",
       "      <th>DR1IP184 - PFA 18:4 (Octadecatetraenoic) (gm)</th>\n",
       "      <th>DR1IP204 - PFA 20:4 (Eicosatetraenoic) (gm)</th>\n",
       "      <th>DR1IP205 - PFA 20:5 (Eicosapentaenoic) (gm)</th>\n",
       "      <th>DR1IP225 - PFA 22:5 (Docosapentaenoic) (gm)</th>\n",
       "      <th>DR1IP226 - PFA 22:6 (Docosahexaenoic) (gm)</th>\n",
       "    </tr>\n",
       "  </thead>\n",
       "  <tbody>\n",
       "    <tr>\n",
       "      <th>0</th>\n",
       "      <td>53</td>\n",
       "      <td>3.0</td>\n",
       "      <td>2017-2018</td>\n",
       "      <td>95405.0</td>\n",
       "      <td>31625.2</td>\n",
       "      <td>33729.447268</td>\n",
       "      <td>1.0</td>\n",
       "      <td>1.0</td>\n",
       "      <td>81.0</td>\n",
       "      <td>2.0</td>\n",
       "      <td>2.0</td>\n",
       "      <td>-3.0</td>\n",
       "      <td>5.0</td>\n",
       "      <td>1.0</td>\n",
       "      <td>0.0</td>\n",
       "      <td>0.0</td>\n",
       "      <td>23400.0</td>\n",
       "      <td>9.0</td>\n",
       "      <td>NaN</td>\n",
       "      <td>1.0</td>\n",
       "      <td>94000100.0</td>\n",
       "      <td>3045.00</td>\n",
       "      <td>0.0</td>\n",
       "      <td>0.00</td>\n",
       "      <td>0.00</td>\n",
       "      <td>0.00</td>\n",
       "      <td>0.0</td>\n",
       "      <td>0.00</td>\n",
       "      <td>0.000</td>\n",
       "      <td>0.000</td>\n",
       "      <td>0.000</td>\n",
       "      <td>0.0</td>\n",
       "      <td>0.00</td>\n",
       "      <td>0.0</td>\n",
       "      <td>0.0</td>\n",
       "      <td>0.0</td>\n",
       "      <td>0.0</td>\n",
       "      <td>0.0</td>\n",
       "      <td>0.0</td>\n",
       "      <td>0.0</td>\n",
       "      <td>0.0</td>\n",
       "      <td>0.000</td>\n",
       "      <td>0.000</td>\n",
       "      <td>0.000</td>\n",
       "      <td>0.000</td>\n",
       "      <td>0.0</td>\n",
       "      <td>0.0</td>\n",
       "      <td>0.0</td>\n",
       "      <td>0.0</td>\n",
       "      <td>0.0</td>\n",
       "      <td>0.00</td>\n",
       "      <td>0.0</td>\n",
       "      <td>0.0</td>\n",
       "      <td>0.0</td>\n",
       "      <td>0.0</td>\n",
       "      <td>91.0</td>\n",
       "      <td>0.0</td>\n",
       "      <td>30.0</td>\n",
       "      <td>0.00</td>\n",
       "      <td>0.31</td>\n",
       "      <td>0.305</td>\n",
       "      <td>122.0</td>\n",
       "      <td>0.0</td>\n",
       "      <td>0.0</td>\n",
       "      <td>0.0</td>\n",
       "      <td>0.0</td>\n",
       "      <td>0.0</td>\n",
       "      <td>3041.96</td>\n",
       "      <td>0.000</td>\n",
       "      <td>0.000</td>\n",
       "      <td>0.000</td>\n",
       "      <td>0.000</td>\n",
       "      <td>0.000</td>\n",
       "      <td>0.000</td>\n",
       "      <td>0.000</td>\n",
       "      <td>0.000</td>\n",
       "      <td>0.000</td>\n",
       "      <td>0.000</td>\n",
       "      <td>0.000</td>\n",
       "      <td>0.0</td>\n",
       "      <td>0.000</td>\n",
       "      <td>0.000</td>\n",
       "      <td>0.0</td>\n",
       "      <td>0.000</td>\n",
       "      <td>0.0</td>\n",
       "      <td>0.0</td>\n",
       "      <td>0.0</td>\n",
       "    </tr>\n",
       "    <tr>\n",
       "      <th>1</th>\n",
       "      <td>53</td>\n",
       "      <td>3.0</td>\n",
       "      <td>2017-2018</td>\n",
       "      <td>95405.0</td>\n",
       "      <td>31625.2</td>\n",
       "      <td>33729.447268</td>\n",
       "      <td>10.0</td>\n",
       "      <td>1.0</td>\n",
       "      <td>81.0</td>\n",
       "      <td>2.0</td>\n",
       "      <td>2.0</td>\n",
       "      <td>-3.0</td>\n",
       "      <td>5.0</td>\n",
       "      <td>1.0</td>\n",
       "      <td>2.0</td>\n",
       "      <td>1.0</td>\n",
       "      <td>43200.0</td>\n",
       "      <td>7.0</td>\n",
       "      <td>1.0</td>\n",
       "      <td>1.0</td>\n",
       "      <td>92302000.0</td>\n",
       "      <td>150.00</td>\n",
       "      <td>2.0</td>\n",
       "      <td>0.00</td>\n",
       "      <td>0.45</td>\n",
       "      <td>0.00</td>\n",
       "      <td>0.0</td>\n",
       "      <td>0.00</td>\n",
       "      <td>0.003</td>\n",
       "      <td>0.002</td>\n",
       "      <td>0.006</td>\n",
       "      <td>0.0</td>\n",
       "      <td>0.00</td>\n",
       "      <td>0.0</td>\n",
       "      <td>0.0</td>\n",
       "      <td>0.0</td>\n",
       "      <td>0.0</td>\n",
       "      <td>0.0</td>\n",
       "      <td>0.0</td>\n",
       "      <td>0.0</td>\n",
       "      <td>0.0</td>\n",
       "      <td>0.000</td>\n",
       "      <td>0.021</td>\n",
       "      <td>0.000</td>\n",
       "      <td>0.000</td>\n",
       "      <td>8.0</td>\n",
       "      <td>0.0</td>\n",
       "      <td>8.0</td>\n",
       "      <td>8.0</td>\n",
       "      <td>0.6</td>\n",
       "      <td>0.00</td>\n",
       "      <td>0.0</td>\n",
       "      <td>0.0</td>\n",
       "      <td>0.0</td>\n",
       "      <td>0.0</td>\n",
       "      <td>0.0</td>\n",
       "      <td>2.0</td>\n",
       "      <td>5.0</td>\n",
       "      <td>0.03</td>\n",
       "      <td>0.03</td>\n",
       "      <td>0.015</td>\n",
       "      <td>5.0</td>\n",
       "      <td>56.0</td>\n",
       "      <td>0.0</td>\n",
       "      <td>30.0</td>\n",
       "      <td>3.0</td>\n",
       "      <td>0.0</td>\n",
       "      <td>149.55</td>\n",
       "      <td>0.000</td>\n",
       "      <td>0.000</td>\n",
       "      <td>0.000</td>\n",
       "      <td>0.000</td>\n",
       "      <td>0.000</td>\n",
       "      <td>0.000</td>\n",
       "      <td>0.002</td>\n",
       "      <td>0.000</td>\n",
       "      <td>0.000</td>\n",
       "      <td>0.000</td>\n",
       "      <td>0.000</td>\n",
       "      <td>0.0</td>\n",
       "      <td>0.002</td>\n",
       "      <td>0.005</td>\n",
       "      <td>0.0</td>\n",
       "      <td>0.000</td>\n",
       "      <td>0.0</td>\n",
       "      <td>0.0</td>\n",
       "      <td>0.0</td>\n",
       "    </tr>\n",
       "    <tr>\n",
       "      <th>2</th>\n",
       "      <td>53</td>\n",
       "      <td>3.0</td>\n",
       "      <td>2017-2018</td>\n",
       "      <td>95405.0</td>\n",
       "      <td>31625.2</td>\n",
       "      <td>33729.447268</td>\n",
       "      <td>11.0</td>\n",
       "      <td>1.0</td>\n",
       "      <td>81.0</td>\n",
       "      <td>2.0</td>\n",
       "      <td>2.0</td>\n",
       "      <td>-3.0</td>\n",
       "      <td>5.0</td>\n",
       "      <td>1.0</td>\n",
       "      <td>2.0</td>\n",
       "      <td>1.0</td>\n",
       "      <td>43200.0</td>\n",
       "      <td>7.0</td>\n",
       "      <td>1.0</td>\n",
       "      <td>1.0</td>\n",
       "      <td>91101000.0</td>\n",
       "      <td>4.17</td>\n",
       "      <td>16.0</td>\n",
       "      <td>0.00</td>\n",
       "      <td>4.15</td>\n",
       "      <td>4.16</td>\n",
       "      <td>0.0</td>\n",
       "      <td>0.01</td>\n",
       "      <td>0.000</td>\n",
       "      <td>0.000</td>\n",
       "      <td>0.000</td>\n",
       "      <td>0.0</td>\n",
       "      <td>0.00</td>\n",
       "      <td>0.0</td>\n",
       "      <td>0.0</td>\n",
       "      <td>0.0</td>\n",
       "      <td>0.0</td>\n",
       "      <td>0.0</td>\n",
       "      <td>0.0</td>\n",
       "      <td>0.0</td>\n",
       "      <td>0.0</td>\n",
       "      <td>0.000</td>\n",
       "      <td>0.001</td>\n",
       "      <td>0.000</td>\n",
       "      <td>0.000</td>\n",
       "      <td>0.0</td>\n",
       "      <td>0.0</td>\n",
       "      <td>0.0</td>\n",
       "      <td>0.0</td>\n",
       "      <td>0.0</td>\n",
       "      <td>0.00</td>\n",
       "      <td>0.0</td>\n",
       "      <td>0.0</td>\n",
       "      <td>0.0</td>\n",
       "      <td>0.0</td>\n",
       "      <td>0.0</td>\n",
       "      <td>0.0</td>\n",
       "      <td>0.0</td>\n",
       "      <td>0.00</td>\n",
       "      <td>0.00</td>\n",
       "      <td>0.000</td>\n",
       "      <td>0.0</td>\n",
       "      <td>0.0</td>\n",
       "      <td>0.0</td>\n",
       "      <td>0.0</td>\n",
       "      <td>0.0</td>\n",
       "      <td>0.0</td>\n",
       "      <td>0.00</td>\n",
       "      <td>0.000</td>\n",
       "      <td>0.000</td>\n",
       "      <td>0.000</td>\n",
       "      <td>0.000</td>\n",
       "      <td>0.000</td>\n",
       "      <td>0.000</td>\n",
       "      <td>0.000</td>\n",
       "      <td>0.000</td>\n",
       "      <td>0.000</td>\n",
       "      <td>0.000</td>\n",
       "      <td>0.000</td>\n",
       "      <td>0.0</td>\n",
       "      <td>0.000</td>\n",
       "      <td>0.000</td>\n",
       "      <td>0.0</td>\n",
       "      <td>0.000</td>\n",
       "      <td>0.0</td>\n",
       "      <td>0.0</td>\n",
       "      <td>0.0</td>\n",
       "    </tr>\n",
       "    <tr>\n",
       "      <th>3</th>\n",
       "      <td>53</td>\n",
       "      <td>3.0</td>\n",
       "      <td>2017-2018</td>\n",
       "      <td>95405.0</td>\n",
       "      <td>31625.2</td>\n",
       "      <td>33729.447268</td>\n",
       "      <td>12.0</td>\n",
       "      <td>1.0</td>\n",
       "      <td>81.0</td>\n",
       "      <td>2.0</td>\n",
       "      <td>2.0</td>\n",
       "      <td>-3.0</td>\n",
       "      <td>5.0</td>\n",
       "      <td>1.0</td>\n",
       "      <td>2.0</td>\n",
       "      <td>1.0</td>\n",
       "      <td>43200.0</td>\n",
       "      <td>7.0</td>\n",
       "      <td>1.0</td>\n",
       "      <td>1.0</td>\n",
       "      <td>11112100.0</td>\n",
       "      <td>15.25</td>\n",
       "      <td>8.0</td>\n",
       "      <td>0.51</td>\n",
       "      <td>0.75</td>\n",
       "      <td>0.75</td>\n",
       "      <td>0.0</td>\n",
       "      <td>0.29</td>\n",
       "      <td>0.169</td>\n",
       "      <td>0.061</td>\n",
       "      <td>0.009</td>\n",
       "      <td>1.0</td>\n",
       "      <td>0.01</td>\n",
       "      <td>0.0</td>\n",
       "      <td>13.0</td>\n",
       "      <td>13.0</td>\n",
       "      <td>0.0</td>\n",
       "      <td>0.0</td>\n",
       "      <td>0.0</td>\n",
       "      <td>0.0</td>\n",
       "      <td>0.0</td>\n",
       "      <td>0.009</td>\n",
       "      <td>0.021</td>\n",
       "      <td>0.017</td>\n",
       "      <td>0.009</td>\n",
       "      <td>0.0</td>\n",
       "      <td>0.0</td>\n",
       "      <td>0.0</td>\n",
       "      <td>0.0</td>\n",
       "      <td>2.8</td>\n",
       "      <td>0.08</td>\n",
       "      <td>0.0</td>\n",
       "      <td>0.0</td>\n",
       "      <td>0.2</td>\n",
       "      <td>0.0</td>\n",
       "      <td>19.0</td>\n",
       "      <td>16.0</td>\n",
       "      <td>2.0</td>\n",
       "      <td>0.00</td>\n",
       "      <td>0.07</td>\n",
       "      <td>0.000</td>\n",
       "      <td>6.0</td>\n",
       "      <td>24.0</td>\n",
       "      <td>0.3</td>\n",
       "      <td>0.0</td>\n",
       "      <td>0.0</td>\n",
       "      <td>0.0</td>\n",
       "      <td>13.59</td>\n",
       "      <td>0.006</td>\n",
       "      <td>0.005</td>\n",
       "      <td>0.003</td>\n",
       "      <td>0.007</td>\n",
       "      <td>0.009</td>\n",
       "      <td>0.028</td>\n",
       "      <td>0.078</td>\n",
       "      <td>0.028</td>\n",
       "      <td>0.004</td>\n",
       "      <td>0.063</td>\n",
       "      <td>0.000</td>\n",
       "      <td>0.0</td>\n",
       "      <td>0.009</td>\n",
       "      <td>0.001</td>\n",
       "      <td>0.0</td>\n",
       "      <td>0.000</td>\n",
       "      <td>0.0</td>\n",
       "      <td>0.0</td>\n",
       "      <td>0.0</td>\n",
       "    </tr>\n",
       "    <tr>\n",
       "      <th>4</th>\n",
       "      <td>53</td>\n",
       "      <td>3.0</td>\n",
       "      <td>2017-2018</td>\n",
       "      <td>95405.0</td>\n",
       "      <td>31625.2</td>\n",
       "      <td>33729.447268</td>\n",
       "      <td>13.0</td>\n",
       "      <td>1.0</td>\n",
       "      <td>81.0</td>\n",
       "      <td>2.0</td>\n",
       "      <td>2.0</td>\n",
       "      <td>-3.0</td>\n",
       "      <td>5.0</td>\n",
       "      <td>1.0</td>\n",
       "      <td>0.0</td>\n",
       "      <td>0.0</td>\n",
       "      <td>50400.0</td>\n",
       "      <td>2.0</td>\n",
       "      <td>1.0</td>\n",
       "      <td>1.0</td>\n",
       "      <td>51300200.0</td>\n",
       "      <td>115.45</td>\n",
       "      <td>345.0</td>\n",
       "      <td>9.06</td>\n",
       "      <td>53.26</td>\n",
       "      <td>3.38</td>\n",
       "      <td>11.2</td>\n",
       "      <td>10.62</td>\n",
       "      <td>3.823</td>\n",
       "      <td>2.414</td>\n",
       "      <td>0.879</td>\n",
       "      <td>0.0</td>\n",
       "      <td>0.64</td>\n",
       "      <td>0.0</td>\n",
       "      <td>0.0</td>\n",
       "      <td>0.0</td>\n",
       "      <td>0.0</td>\n",
       "      <td>0.0</td>\n",
       "      <td>0.0</td>\n",
       "      <td>0.0</td>\n",
       "      <td>12.0</td>\n",
       "      <td>0.416</td>\n",
       "      <td>0.208</td>\n",
       "      <td>5.322</td>\n",
       "      <td>0.323</td>\n",
       "      <td>44.0</td>\n",
       "      <td>0.0</td>\n",
       "      <td>44.0</td>\n",
       "      <td>44.0</td>\n",
       "      <td>9.0</td>\n",
       "      <td>0.00</td>\n",
       "      <td>0.0</td>\n",
       "      <td>0.0</td>\n",
       "      <td>0.0</td>\n",
       "      <td>3.8</td>\n",
       "      <td>42.0</td>\n",
       "      <td>182.0</td>\n",
       "      <td>65.0</td>\n",
       "      <td>2.54</td>\n",
       "      <td>1.78</td>\n",
       "      <td>0.264</td>\n",
       "      <td>344.0</td>\n",
       "      <td>226.0</td>\n",
       "      <td>30.7</td>\n",
       "      <td>0.0</td>\n",
       "      <td>0.0</td>\n",
       "      <td>0.0</td>\n",
       "      <td>40.91</td>\n",
       "      <td>0.000</td>\n",
       "      <td>0.000</td>\n",
       "      <td>0.003</td>\n",
       "      <td>0.009</td>\n",
       "      <td>0.017</td>\n",
       "      <td>0.075</td>\n",
       "      <td>3.222</td>\n",
       "      <td>0.442</td>\n",
       "      <td>0.009</td>\n",
       "      <td>2.390</td>\n",
       "      <td>0.013</td>\n",
       "      <td>0.0</td>\n",
       "      <td>0.842</td>\n",
       "      <td>0.035</td>\n",
       "      <td>0.0</td>\n",
       "      <td>0.001</td>\n",
       "      <td>0.0</td>\n",
       "      <td>0.0</td>\n",
       "      <td>0.0</td>\n",
       "    </tr>\n",
       "  </tbody>\n",
       "</table>\n",
       "</div>"
      ],
      "text/plain": [
       "   RIDAGEYR_Age_in_years_at_screening  URDACT_Albumin_creatinine_ratio_mg_g  \\\n",
       "0                                  53                                   3.0   \n",
       "1                                  53                                   3.0   \n",
       "2                                  53                                   3.0   \n",
       "3                                  53                                   3.0   \n",
       "4                                  53                                   3.0   \n",
       "\n",
       "    DataYear  SEQN - Respondent sequence number  \\\n",
       "0  2017-2018                            95405.0   \n",
       "1  2017-2018                            95405.0   \n",
       "2  2017-2018                            95405.0   \n",
       "3  2017-2018                            95405.0   \n",
       "4  2017-2018                            95405.0   \n",
       "\n",
       "   WTDRD1 - Dietary day one sample weight  \\\n",
       "0                                 31625.2   \n",
       "1                                 31625.2   \n",
       "2                                 31625.2   \n",
       "3                                 31625.2   \n",
       "4                                 31625.2   \n",
       "\n",
       "   WTDR2D - Dietary two-day sample weight  \\\n",
       "0                            33729.447268   \n",
       "1                            33729.447268   \n",
       "2                            33729.447268   \n",
       "3                            33729.447268   \n",
       "4                            33729.447268   \n",
       "\n",
       "   DR1ILINE - Food/Individual component number  \\\n",
       "0                                          1.0   \n",
       "1                                         10.0   \n",
       "2                                         11.0   \n",
       "3                                         12.0   \n",
       "4                                         13.0   \n",
       "\n",
       "   DR1DRSTZ - Dietary recall status  DR1EXMER - Interviewer ID code  \\\n",
       "0                               1.0                            81.0   \n",
       "1                               1.0                            81.0   \n",
       "2                               1.0                            81.0   \n",
       "3                               1.0                            81.0   \n",
       "4                               1.0                            81.0   \n",
       "\n",
       "   DRABF - Breast-fed infant (either day)  DRDINT - Number of days of intake  \\\n",
       "0                                     2.0                                2.0   \n",
       "1                                     2.0                                2.0   \n",
       "2                                     2.0                                2.0   \n",
       "3                                     2.0                                2.0   \n",
       "4                                     2.0                                2.0   \n",
       "\n",
       "   DR1DBIH - # of days b/w intake and HH interview  \\\n",
       "0                                             -3.0   \n",
       "1                                             -3.0   \n",
       "2                                             -3.0   \n",
       "3                                             -3.0   \n",
       "4                                             -3.0   \n",
       "\n",
       "   DR1DAY - Intake day of the week  DR1LANG - Language respondent used mostly  \\\n",
       "0                              5.0                                        1.0   \n",
       "1                              5.0                                        1.0   \n",
       "2                              5.0                                        1.0   \n",
       "3                              5.0                                        1.0   \n",
       "4                              5.0                                        1.0   \n",
       "\n",
       "   DR1CCMNM - Combination food number  DR1CCMTX - Combination food type  \\\n",
       "0                                 0.0                               0.0   \n",
       "1                                 2.0                               1.0   \n",
       "2                                 2.0                               1.0   \n",
       "3                                 2.0                               1.0   \n",
       "4                                 0.0                               0.0   \n",
       "\n",
       "   DR1_020 - Time of eating occasion (HH:MM)  \\\n",
       "0                                    23400.0   \n",
       "1                                    43200.0   \n",
       "2                                    43200.0   \n",
       "3                                    43200.0   \n",
       "4                                    50400.0   \n",
       "\n",
       "   DR1_030Z - Name of eating occasion  DR1FS - Source of food  \\\n",
       "0                                 9.0                     NaN   \n",
       "1                                 7.0                     1.0   \n",
       "2                                 7.0                     1.0   \n",
       "3                                 7.0                     1.0   \n",
       "4                                 2.0                     1.0   \n",
       "\n",
       "   DR1_040Z - Did you eat this meal at home?  DR1IFDCD - USDA food code  \\\n",
       "0                                        1.0                 94000100.0   \n",
       "1                                        1.0                 92302000.0   \n",
       "2                                        1.0                 91101000.0   \n",
       "3                                        1.0                 11112100.0   \n",
       "4                                        1.0                 51300200.0   \n",
       "\n",
       "   DR1IGRMS - Grams  DR1IKCAL - Energy (kcal)  DR1IPROT - Protein (gm)  \\\n",
       "0           3045.00                       0.0                     0.00   \n",
       "1            150.00                       2.0                     0.00   \n",
       "2              4.17                      16.0                     0.00   \n",
       "3             15.25                       8.0                     0.51   \n",
       "4            115.45                     345.0                     9.06   \n",
       "\n",
       "   DR1ICARB - Carbohydrate (gm)  DR1ISUGR - Total sugars (gm)  \\\n",
       "0                          0.00                          0.00   \n",
       "1                          0.45                          0.00   \n",
       "2                          4.15                          4.16   \n",
       "3                          0.75                          0.75   \n",
       "4                         53.26                          3.38   \n",
       "\n",
       "   DR1IFIBE - Dietary fiber (gm)  DR1ITFAT - Total fat (gm)  \\\n",
       "0                            0.0                       0.00   \n",
       "1                            0.0                       0.00   \n",
       "2                            0.0                       0.01   \n",
       "3                            0.0                       0.29   \n",
       "4                           11.2                      10.62   \n",
       "\n",
       "   DR1ISFAT - Total saturated fatty acids (gm)  \\\n",
       "0                                        0.000   \n",
       "1                                        0.003   \n",
       "2                                        0.000   \n",
       "3                                        0.169   \n",
       "4                                        3.823   \n",
       "\n",
       "   DR1IMFAT - Total monounsaturated fatty acids (gm)  \\\n",
       "0                                              0.000   \n",
       "1                                              0.002   \n",
       "2                                              0.000   \n",
       "3                                              0.061   \n",
       "4                                              2.414   \n",
       "\n",
       "   DR1IPFAT - Total polyunsaturated fatty acids (gm)  \\\n",
       "0                                              0.000   \n",
       "1                                              0.006   \n",
       "2                                              0.000   \n",
       "3                                              0.009   \n",
       "4                                              0.879   \n",
       "\n",
       "   DR1ICHOL - Cholesterol (mg)  DR1IATOC - Vitamin E as alpha-tocopherol (mg)  \\\n",
       "0                          0.0                                           0.00   \n",
       "1                          0.0                                           0.00   \n",
       "2                          0.0                                           0.00   \n",
       "3                          1.0                                           0.01   \n",
       "4                          0.0                                           0.64   \n",
       "\n",
       "   DR1IATOA - Added alpha-tocopherol (Vitamin E) (mg)  \\\n",
       "0                                                0.0    \n",
       "1                                                0.0    \n",
       "2                                                0.0    \n",
       "3                                                0.0    \n",
       "4                                                0.0    \n",
       "\n",
       "   DR1IRET - Retinol (mcg)  DR1IVARA - Vitamin A, RAE (mcg)  \\\n",
       "0                      0.0                              0.0   \n",
       "1                      0.0                              0.0   \n",
       "2                      0.0                              0.0   \n",
       "3                     13.0                             13.0   \n",
       "4                      0.0                              0.0   \n",
       "\n",
       "   DR1IACAR - Alpha-carotene (mcg)  DR1IBCAR - Beta-carotene (mcg)  \\\n",
       "0                              0.0                             0.0   \n",
       "1                              0.0                             0.0   \n",
       "2                              0.0                             0.0   \n",
       "3                              0.0                             0.0   \n",
       "4                              0.0                             0.0   \n",
       "\n",
       "   DR1ICRYP - Beta-cryptoxanthin (mcg)  DR1ILYCO - Lycopene (mcg)  \\\n",
       "0                                  0.0                        0.0   \n",
       "1                                  0.0                        0.0   \n",
       "2                                  0.0                        0.0   \n",
       "3                                  0.0                        0.0   \n",
       "4                                  0.0                        0.0   \n",
       "\n",
       "   DR1ILZ - Lutein + zeaxanthin (mcg)  DR1IVB1 - Thiamin (Vitamin B1) (mg)  \\\n",
       "0                                 0.0                                0.000   \n",
       "1                                 0.0                                0.000   \n",
       "2                                 0.0                                0.000   \n",
       "3                                 0.0                                0.009   \n",
       "4                                12.0                                0.416   \n",
       "\n",
       "   DR1IVB2 - Riboflavin (Vitamin B2) (mg)  DR1INIAC - Niacin (mg)  \\\n",
       "0                                   0.000                   0.000   \n",
       "1                                   0.021                   0.000   \n",
       "2                                   0.001                   0.000   \n",
       "3                                   0.021                   0.017   \n",
       "4                                   0.208                   5.322   \n",
       "\n",
       "   DR1IVB6 - Vitamin B6 (mg)  DR1IFOLA - Total folate (mcg)  \\\n",
       "0                      0.000                            0.0   \n",
       "1                      0.000                            8.0   \n",
       "2                      0.000                            0.0   \n",
       "3                      0.009                            0.0   \n",
       "4                      0.323                           44.0   \n",
       "\n",
       "   DR1IFA - Folic acid (mcg)  DR1IFF - Food folate (mcg)  \\\n",
       "0                        0.0                         0.0   \n",
       "1                        0.0                         8.0   \n",
       "2                        0.0                         0.0   \n",
       "3                        0.0                         0.0   \n",
       "4                        0.0                        44.0   \n",
       "\n",
       "   DR1IFDFE - Folate, DFE (mcg)  DR1ICHL - Total choline (mg)  \\\n",
       "0                           0.0                           0.0   \n",
       "1                           8.0                           0.6   \n",
       "2                           0.0                           0.0   \n",
       "3                           0.0                           2.8   \n",
       "4                          44.0                           9.0   \n",
       "\n",
       "   DR1IVB12 - Vitamin B12 (mcg)  DR1IB12A - Added vitamin B12 (mcg)  \\\n",
       "0                          0.00                                 0.0   \n",
       "1                          0.00                                 0.0   \n",
       "2                          0.00                                 0.0   \n",
       "3                          0.08                                 0.0   \n",
       "4                          0.00                                 0.0   \n",
       "\n",
       "   DR1IVC - Vitamin C (mg)  DR1IVD - Vitamin D (D2 + D3) (mcg)  \\\n",
       "0                      0.0                                 0.0   \n",
       "1                      0.0                                 0.0   \n",
       "2                      0.0                                 0.0   \n",
       "3                      0.0                                 0.2   \n",
       "4                      0.0                                 0.0   \n",
       "\n",
       "   DR1IVK - Vitamin K (mcg)  DR1ICALC - Calcium (mg)  \\\n",
       "0                       0.0                     91.0   \n",
       "1                       0.0                      0.0   \n",
       "2                       0.0                      0.0   \n",
       "3                       0.0                     19.0   \n",
       "4                       3.8                     42.0   \n",
       "\n",
       "   DR1IPHOS - Phosphorus (mg)  DR1IMAGN - Magnesium (mg)  \\\n",
       "0                         0.0                       30.0   \n",
       "1                         2.0                        5.0   \n",
       "2                         0.0                        0.0   \n",
       "3                        16.0                        2.0   \n",
       "4                       182.0                       65.0   \n",
       "\n",
       "   DR1IIRON - Iron (mg)  DR1IZINC - Zinc (mg)  DR1ICOPP - Copper (mg)  \\\n",
       "0                  0.00                  0.31                   0.305   \n",
       "1                  0.03                  0.03                   0.015   \n",
       "2                  0.00                  0.00                   0.000   \n",
       "3                  0.00                  0.07                   0.000   \n",
       "4                  2.54                  1.78                   0.264   \n",
       "\n",
       "   DR1ISODI - Sodium (mg)  DR1IPOTA - Potassium (mg)  \\\n",
       "0                   122.0                        0.0   \n",
       "1                     5.0                       56.0   \n",
       "2                     0.0                        0.0   \n",
       "3                     6.0                       24.0   \n",
       "4                   344.0                      226.0   \n",
       "\n",
       "   DR1ISELE - Selenium (mcg)  DR1ICAFF - Caffeine (mg)  \\\n",
       "0                        0.0                       0.0   \n",
       "1                        0.0                      30.0   \n",
       "2                        0.0                       0.0   \n",
       "3                        0.3                       0.0   \n",
       "4                       30.7                       0.0   \n",
       "\n",
       "   DR1ITHEO - Theobromine (mg)  DR1IALCO - Alcohol (gm)  \\\n",
       "0                          0.0                      0.0   \n",
       "1                          3.0                      0.0   \n",
       "2                          0.0                      0.0   \n",
       "3                          0.0                      0.0   \n",
       "4                          0.0                      0.0   \n",
       "\n",
       "   DR1IMOIS - Moisture (gm)  DR1IS040 - SFA 4:0 (Butanoic) (gm)  \\\n",
       "0                   3041.96                               0.000   \n",
       "1                    149.55                               0.000   \n",
       "2                      0.00                               0.000   \n",
       "3                     13.59                               0.006   \n",
       "4                     40.91                               0.000   \n",
       "\n",
       "   DR1IS060 - SFA 6:0 (Hexanoic) (gm)  DR1IS080 - SFA 8:0 (Octanoic) (gm)  \\\n",
       "0                               0.000                               0.000   \n",
       "1                               0.000                               0.000   \n",
       "2                               0.000                               0.000   \n",
       "3                               0.005                               0.003   \n",
       "4                               0.000                               0.003   \n",
       "\n",
       "   DR1IS100 - SFA 10:0 (Decanoic) (gm)  DR1IS120 - SFA 12:0 (Dodecanoic) (gm)  \\\n",
       "0                                0.000                                  0.000   \n",
       "1                                0.000                                  0.000   \n",
       "2                                0.000                                  0.000   \n",
       "3                                0.007                                  0.009   \n",
       "4                                0.009                                  0.017   \n",
       "\n",
       "   DR1IS140 - SFA 14:0 (Tetradecanoic) (gm)  \\\n",
       "0                                     0.000   \n",
       "1                                     0.000   \n",
       "2                                     0.000   \n",
       "3                                     0.028   \n",
       "4                                     0.075   \n",
       "\n",
       "   DR1IS160 - SFA 16:0 (Hexadecanoic) (gm)  \\\n",
       "0                                    0.000   \n",
       "1                                    0.002   \n",
       "2                                    0.000   \n",
       "3                                    0.078   \n",
       "4                                    3.222   \n",
       "\n",
       "   DR1IS180 - SFA 18:0 (Octadecanoic) (gm)  \\\n",
       "0                                    0.000   \n",
       "1                                    0.000   \n",
       "2                                    0.000   \n",
       "3                                    0.028   \n",
       "4                                    0.442   \n",
       "\n",
       "   DR1IM161 - MFA 16:1 (Hexadecenoic) (gm)  \\\n",
       "0                                    0.000   \n",
       "1                                    0.000   \n",
       "2                                    0.000   \n",
       "3                                    0.004   \n",
       "4                                    0.009   \n",
       "\n",
       "   DR1IM181 - MFA 18:1 (Octadecenoic) (gm)  \\\n",
       "0                                    0.000   \n",
       "1                                    0.000   \n",
       "2                                    0.000   \n",
       "3                                    0.063   \n",
       "4                                    2.390   \n",
       "\n",
       "   DR1IM201 - MFA 20:1 (Eicosenoic) (gm)  \\\n",
       "0                                  0.000   \n",
       "1                                  0.000   \n",
       "2                                  0.000   \n",
       "3                                  0.000   \n",
       "4                                  0.013   \n",
       "\n",
       "   DR1IM221 - MFA 22:1 (Docosenoic) (gm)  \\\n",
       "0                                    0.0   \n",
       "1                                    0.0   \n",
       "2                                    0.0   \n",
       "3                                    0.0   \n",
       "4                                    0.0   \n",
       "\n",
       "   DR1IP182 - PFA 18:2 (Octadecadienoic) (gm)  \\\n",
       "0                                       0.000   \n",
       "1                                       0.002   \n",
       "2                                       0.000   \n",
       "3                                       0.009   \n",
       "4                                       0.842   \n",
       "\n",
       "   DR1IP183 - PFA 18:3 (Octadecatrienoic) (gm)  \\\n",
       "0                                        0.000   \n",
       "1                                        0.005   \n",
       "2                                        0.000   \n",
       "3                                        0.001   \n",
       "4                                        0.035   \n",
       "\n",
       "   DR1IP184 - PFA 18:4 (Octadecatetraenoic) (gm)  \\\n",
       "0                                            0.0   \n",
       "1                                            0.0   \n",
       "2                                            0.0   \n",
       "3                                            0.0   \n",
       "4                                            0.0   \n",
       "\n",
       "   DR1IP204 - PFA 20:4 (Eicosatetraenoic) (gm)  \\\n",
       "0                                        0.000   \n",
       "1                                        0.000   \n",
       "2                                        0.000   \n",
       "3                                        0.000   \n",
       "4                                        0.001   \n",
       "\n",
       "   DR1IP205 - PFA 20:5 (Eicosapentaenoic) (gm)  \\\n",
       "0                                          0.0   \n",
       "1                                          0.0   \n",
       "2                                          0.0   \n",
       "3                                          0.0   \n",
       "4                                          0.0   \n",
       "\n",
       "   DR1IP225 - PFA 22:5 (Docosapentaenoic) (gm)  \\\n",
       "0                                          0.0   \n",
       "1                                          0.0   \n",
       "2                                          0.0   \n",
       "3                                          0.0   \n",
       "4                                          0.0   \n",
       "\n",
       "   DR1IP226 - PFA 22:6 (Docosahexaenoic) (gm)  \n",
       "0                                         0.0  \n",
       "1                                         0.0  \n",
       "2                                         0.0  \n",
       "3                                         0.0  \n",
       "4                                         0.0  "
      ]
     },
     "execution_count": 4,
     "metadata": {},
     "output_type": "execute_result"
    }
   ],
   "source": [
    "# data exploration\n",
    "import pandas as pd\n",
    "#df = pd.read_csv('../nhanes_input_data/newdietaryIntakeDataForClassificationAndAnalysisData.csv')\n",
    "df = pd.read_csv('./nhanes_output_data/classifiedGroups/2022-12-01/' + str(classForAnalysis) + '_dietaryIntakeDataForClassificationAndAnalysisData.csv')\n",
    "df.head()"
   ]
  },
  {
   "cell_type": "code",
   "execution_count": 5,
   "metadata": {},
   "outputs": [
    {
     "data": {
      "text/plain": [
       "'./nhanes_output_data/classifiedGroups/2022-12-01/0_dietaryIntakeDataForClassificationAndAnalysisData.csv'"
      ]
     },
     "execution_count": 5,
     "metadata": {},
     "output_type": "execute_result"
    }
   ],
   "source": [
    "'./nhanes_output_data/classifiedGroups/2022-12-01/' + str(classForAnalysis) + '_dietaryIntakeDataForClassificationAndAnalysisData.csv'"
   ]
  },
  {
   "cell_type": "code",
   "execution_count": 6,
   "metadata": {},
   "outputs": [
    {
     "data": {
      "text/plain": [
       "(193805, 87)"
      ]
     },
     "execution_count": 6,
     "metadata": {},
     "output_type": "execute_result"
    }
   ],
   "source": [
    "df.shape"
   ]
  },
  {
   "cell_type": "code",
   "execution_count": 7,
   "metadata": {},
   "outputs": [
    {
     "data": {
      "text/plain": [
       "\"\\ndata_folder = './nhanes_input_data/'\\ndf = pd.read_csv( data_folder + '0_dietaryIntakeDataForClassificationAndAnalysisData.csv') # import the CSV as a pandas dataframe\\ndf.shape\\ndf.head(5) \\n\""
      ]
     },
     "execution_count": 7,
     "metadata": {},
     "output_type": "execute_result"
    }
   ],
   "source": [
    "'''\n",
    "data_folder = './nhanes_input_data/'\n",
    "df = pd.read_csv( data_folder + '0_dietaryIntakeDataForClassificationAndAnalysisData.csv') # import the CSV as a pandas dataframe\n",
    "df.shape\n",
    "df.head(5) \n",
    "'''"
   ]
  },
  {
   "cell_type": "code",
   "execution_count": 8,
   "metadata": {},
   "outputs": [],
   "source": [
    "original_acr = df['URDACT_Albumin_creatinine_ratio_mg_g']"
   ]
  },
  {
   "cell_type": "code",
   "execution_count": 9,
   "metadata": {},
   "outputs": [],
   "source": [
    "# Create categories for the severity of ACR"
   ]
  },
  {
   "cell_type": "code",
   "execution_count": 10,
   "metadata": {},
   "outputs": [
    {
     "data": {
      "text/plain": [
       "Index(['RIDAGEYR_Age_in_years_at_screening',\n",
       "       'URDACT_Albumin_creatinine_ratio_mg_g', 'DataYear',\n",
       "       'SEQN - Respondent sequence number',\n",
       "       'WTDRD1 - Dietary day one sample weight',\n",
       "       'WTDR2D - Dietary two-day sample weight',\n",
       "       'DR1ILINE - Food/Individual component number',\n",
       "       'DR1DRSTZ - Dietary recall status', 'DR1EXMER - Interviewer ID code',\n",
       "       'DRABF - Breast-fed infant (either day)'],\n",
       "      dtype='object')"
      ]
     },
     "execution_count": 10,
     "metadata": {},
     "output_type": "execute_result"
    }
   ],
   "source": [
    "df.columns[:10]"
   ]
  },
  {
   "cell_type": "code",
   "execution_count": 11,
   "metadata": {},
   "outputs": [],
   "source": [
    "# convert str values to int using the scikit-learn encoder : acr_category"
   ]
  },
  {
   "cell_type": "code",
   "execution_count": 12,
   "metadata": {},
   "outputs": [],
   "source": [
    "st = df[\n",
    "    \n",
    "    [\n",
    "         'DR1IKCAL - Energy (kcal)'\n",
    "        , 'DR1IPROT - Protein (gm)'\n",
    "        , 'DR1ICARB - Carbohydrate (gm)'\n",
    "        , 'DR1ISUGR - Total sugars (gm)'\n",
    "        , 'DR1IFIBE - Dietary fiber (gm)'\n",
    "        , 'DR1ITFAT - Total fat (gm)'\n",
    "        , 'DR1ISFAT - Total saturated fatty acids (gm)'\n",
    "        , 'DR1IMFAT - Total monounsaturated fatty acids (gm)'\n",
    "        , 'DR1IPFAT - Total polyunsaturated fatty acids (gm)'\n",
    "        , 'DR1ICHOL - Cholesterol (mg)'\n",
    "           ,'URDACT_Albumin_creatinine_ratio_mg_g'   \n",
    "    ]\n",
    "]"
   ]
  },
  {
   "cell_type": "code",
   "execution_count": 13,
   "metadata": {},
   "outputs": [],
   "source": [
    "import pandas as pd\n",
    "import numpy as np\n",
    "\n",
    "def clean_dataset(df):\n",
    "    assert isinstance(df, pd.DataFrame), \"df needs to be a pd.DataFrame\"\n",
    "    df.dropna(inplace=True)\n",
    "    indices_to_keep = ~df.isin([np.nan, np.inf, -np.inf]).any(1)\n",
    "    return df[indices_to_keep].astype(np.float64)"
   ]
  },
  {
   "cell_type": "code",
   "execution_count": 14,
   "metadata": {},
   "outputs": [],
   "source": [
    "st = clean_dataset(st);"
   ]
  },
  {
   "cell_type": "code",
   "execution_count": 15,
   "metadata": {},
   "outputs": [],
   "source": [
    "st.replace([np.inf, -np.inf], np.nan, inplace=True)"
   ]
  },
  {
   "cell_type": "code",
   "execution_count": 16,
   "metadata": {},
   "outputs": [
    {
     "data": {
      "text/plain": [
       "Index(['DR1IKCAL - Energy (kcal)', 'DR1IPROT - Protein (gm)',\n",
       "       'DR1ICARB - Carbohydrate (gm)', 'DR1ISUGR - Total sugars (gm)',\n",
       "       'DR1IFIBE - Dietary fiber (gm)', 'DR1ITFAT - Total fat (gm)',\n",
       "       'DR1ISFAT - Total saturated fatty acids (gm)',\n",
       "       'DR1IMFAT - Total monounsaturated fatty acids (gm)',\n",
       "       'DR1IPFAT - Total polyunsaturated fatty acids (gm)',\n",
       "       'DR1ICHOL - Cholesterol (mg)', 'URDACT_Albumin_creatinine_ratio_mg_g'],\n",
       "      dtype='object')"
      ]
     },
     "execution_count": 16,
     "metadata": {},
     "output_type": "execute_result"
    }
   ],
   "source": [
    "st.columns"
   ]
  },
  {
   "cell_type": "code",
   "execution_count": 17,
   "metadata": {},
   "outputs": [],
   "source": [
    "acr_preserved = st['URDACT_Albumin_creatinine_ratio_mg_g']\n",
    "\n",
    "st_norm = (st - st.mean())/ (st.max() - st.min())\n",
    "st_norm = clean_dataset(st_norm);\n",
    "\n",
    "# st_norm['acr_preserved'] = acr_preserved\n",
    "\n"
   ]
  },
  {
   "cell_type": "markdown",
   "metadata": {},
   "source": [
    "# Apply Machine Learning \n",
    "\n",
    "# Linear Regression\n",
    "# Bayesian\n",
    "# RandomForest Regression"
   ]
  },
  {
   "cell_type": "markdown",
   "metadata": {},
   "source": [
    "st.columns"
   ]
  },
  {
   "cell_type": "code",
   "execution_count": 18,
   "metadata": {},
   "outputs": [],
   "source": [
    "# Split data into Train and Test\n",
    "# Use 10% of dataset as testing data"
   ]
  },
  {
   "cell_type": "code",
   "execution_count": 19,
   "metadata": {},
   "outputs": [],
   "source": [
    "from sklearn.model_selection import train_test_split"
   ]
  },
  {
   "cell_type": "markdown",
   "metadata": {},
   "source": [
    "# Using ACR category as the target \n",
    "# finding MSE, RMSE, Accuracy error\n",
    "\n",
    "# actual Data\n",
    "\n",
    "Have to verify and/or adjust: \n",
    "Was this approach correct? i.e using category numbers as the target and using classification ID as target for linear regression. \n",
    "The code worked as the category was a number though output probably is not accurate, and adjustments are required on the output side to get correct classification on the regression output.\n",
    "Or a different approach can be used for classification\n",
    "\n",
    "Test accuracy was better when using Absolute ACR values as the target\n"
   ]
  },
  {
   "cell_type": "markdown",
   "metadata": {},
   "source": [
    "# Use ACR as the Target variable"
   ]
  },
  {
   "cell_type": "code",
   "execution_count": null,
   "metadata": {},
   "outputs": [],
   "source": [
    "#!pip install scikit-learn numpy"
   ]
  },
  {
   "cell_type": "code",
   "execution_count": 20,
   "metadata": {},
   "outputs": [],
   "source": [
    "# work on the normalized data\n",
    "# st = st_norm"
   ]
  },
  {
   "cell_type": "code",
   "execution_count": 21,
   "metadata": {},
   "outputs": [],
   "source": [
    "import numpy as np\n",
    "\n",
    "# import train_test_split\n",
    "from sklearn.model_selection import train_test_split"
   ]
  },
  {
   "cell_type": "code",
   "execution_count": 22,
   "metadata": {},
   "outputs": [],
   "source": [
    "# st.fillna(0)"
   ]
  },
  {
   "cell_type": "code",
   "execution_count": 23,
   "metadata": {},
   "outputs": [],
   "source": [
    "# st['URDACT_Albumin_creatinine_ratio_mg_g'][30:40], df['URDACT_Albumin_creatinine_ratio_mg_g'][30:40]"
   ]
  },
  {
   "cell_type": "code",
   "execution_count": 28,
   "metadata": {},
   "outputs": [
    {
     "data": {
      "text/plain": [
       "(142529, 35633, 142529, 35633)"
      ]
     },
     "execution_count": 28,
     "metadata": {},
     "output_type": "execute_result"
    }
   ],
   "source": [
    "#st = st_norm\n",
    "#st = st.reset_index()\n",
    "#st.dropna();\n",
    "\n",
    "from sklearn.linear_model import LinearRegression\n",
    "\n",
    "y = st['URDACT_Albumin_creatinine_ratio_mg_g']\n",
    "X = st.drop(columns=['URDACT_Albumin_creatinine_ratio_mg_g'])\n",
    "# X = X.reset_index\n",
    "\n",
    "X_train, X_test, y_train, y_test = train_test_split(X, y, test_size=0.20, random_state=42)\n",
    "len(y_train), len(y_test), len(X_train), len(X_test)\n",
    "\n",
    "#X_train = X_train.reset_index\n",
    "#y_train = y_train.reset_index\n",
    "#X_test = X_test.reset_index\n",
    "#y_test = y_test.reset_index\n"
   ]
  },
  {
   "cell_type": "code",
   "execution_count": 29,
   "metadata": {},
   "outputs": [],
   "source": [
    "# create the model\n",
    "model = LinearRegression().fit(X_train, y_train)\n",
    "\n",
    "train_predicted = model.predict(X_train)\n",
    "test_predicted = model.predict(X_test)\n",
    "\n"
   ]
  },
  {
   "cell_type": "code",
   "execution_count": 30,
   "metadata": {},
   "outputs": [
    {
     "name": "stdout",
     "output_type": "stream",
     "text": [
      "MSE train data, MSE test data 69631.95564473532 84432.98458862741\n",
      "RMSE train data, RMSE test data 263.87867599473685 290.573544199446\n",
      "R2 train data, R2 test data 0.00011137873890987304 2.0230781149543908e-05\n"
     ]
    }
   ],
   "source": [
    "from sklearn.metrics import mean_squared_error\n",
    "from sklearn.metrics import r2_score\n",
    "\n",
    "\n",
    "train_mse = mean_squared_error(y_train, train_predicted)\n",
    "test_mse = mean_squared_error(y_test, test_predicted)\n",
    "\n",
    "print('MSE train data, MSE test data', train_mse, test_mse)\n",
    "print('RMSE train data, RMSE test data', np.sqrt(np.absolute(train_mse)),  np.sqrt(np.absolute(test_mse)) )\n",
    "print('R2 train data, R2 test data', r2_score(y_train, train_predicted), r2_score(y_test, test_predicted))"
   ]
  },
  {
   "cell_type": "code",
   "execution_count": 31,
   "metadata": {},
   "outputs": [
    {
     "name": "stdout",
     "output_type": "stream",
     "text": [
      "Regression Coefficients on Actual Data (not normalized), 20% as test data\n"
     ]
    },
    {
     "data": {
      "text/plain": [
       "array([-0.0339911 , -0.02630866,  0.04799198,  0.00862493,  0.60546403,\n",
       "        0.88157393, -0.43578233, -0.98301004, -0.66529095,  0.02553043])"
      ]
     },
     "execution_count": 31,
     "metadata": {},
     "output_type": "execute_result"
    }
   ],
   "source": [
    "print('Regression Coefficients on Actual Data (not normalized), 20% as test data');\n",
    "model.coef_ "
   ]
  },
  {
   "cell_type": "markdown",
   "metadata": {},
   "source": [
    "# Checking on Normalized data"
   ]
  },
  {
   "cell_type": "code",
   "execution_count": null,
   "metadata": {},
   "outputs": [],
   "source": [
    "#st_norm[['URDACT_Albumin_creatinine_ratio_mg_g', 'acr_preserved', 'acr_category', 'acr_category_2']][100:150]"
   ]
  },
  {
   "cell_type": "code",
   "execution_count": null,
   "metadata": {},
   "outputs": [],
   "source": [
    "y = st_norm ['URDACT_Albumin_creatinine_ratio_mg_g'] #st_norm['acr_preserved']\n",
    "X = st_norm.drop(columns=['URDACT_Albumin_creatinine_ratio_mg_g']) #, 'acr_preserved'])\n",
    "\n",
    "X_train, X_test, y_train, y_test = train_test_split(X, y, test_size=0.20, random_state=42)\n",
    "len(y_train), len(y_test)\n",
    "\n",
    "# create the model\n",
    "model = LinearRegression().fit(X_train, y_train)\n",
    "\n",
    "train_predicted = model.predict(X_train)\n",
    "test_predicted = model.predict(X_test)\n",
    "\n",
    "train_mse = mean_squared_error(y_train, train_predicted)\n",
    "test_mse = mean_squared_error(y_test, test_predicted)\n",
    "\n",
    "print('MSE train data, MSE test data', train_mse, test_mse)\n",
    "print('RMSE train data, RMSE test data', np.sqrt(np.absolute(train_mse)),  np.sqrt(np.absolute(test_mse)) )\n",
    "print('R2 train data, R2 test data', r2_score(y_train, train_predicted), r2_score(y_test, test_predicted))"
   ]
  },
  {
   "cell_type": "code",
   "execution_count": 32,
   "metadata": {},
   "outputs": [
    {
     "name": "stdout",
     "output_type": "stream",
     "text": [
      "Regression Coefficients on Normalized Data, 20% as test data\n"
     ]
    },
    {
     "data": {
      "text/plain": [
       "array([-0.0339911 , -0.02630866,  0.04799198,  0.00862493,  0.60546403,\n",
       "        0.88157393, -0.43578233, -0.98301004, -0.66529095,  0.02553043])"
      ]
     },
     "execution_count": 32,
     "metadata": {},
     "output_type": "execute_result"
    }
   ],
   "source": [
    "print('Regression Coefficients on Normalized Data, 20% as test data');\n",
    "model.coef_ "
   ]
  },
  {
   "cell_type": "markdown",
   "metadata": {},
   "source": [
    "y = st_norm['acr_preserved']\n",
    "X = st_norm.drop(columns=['URDACT_Albumin_creatinine_ratio_mg_g', 'acr_preserved'])\n",
    "\n",
    "X_train, X_test, y_train, y_test = train_test_split(X, y, test_size=0.10, random_state=42)\n",
    "len(y_train), len(y_test)\n",
    "\n",
    "# create the model\n",
    "model = LinearRegression().fit(X_train, y_train)\n",
    "\n",
    "train_predicted = model.predict(X_train)\n",
    "test_predicted = model.predict(X_test)\n",
    "\n",
    "train_mse = mean_squared_error(y_train, train_predicted)\n",
    "test_mse = mean_squared_error(y_test, test_predicted)\n",
    "\n",
    "print('MSE train data, MSE test data', train_mse, test_mse)\n",
    "print('RMSE train data, RMSE test data', np.sqrt(np.absolute(train_mse)),  np.sqrt(np.absolute(test_mse)) )\n",
    "print('R2 train data, R2 test data', r2_score(y_train, train_predicted), r2_score(y_test, test_predicted))"
   ]
  },
  {
   "cell_type": "code",
   "execution_count": 33,
   "metadata": {},
   "outputs": [],
   "source": [
    "# use cross validations using Linear Regression"
   ]
  },
  {
   "cell_type": "code",
   "execution_count": 34,
   "metadata": {},
   "outputs": [],
   "source": [
    "# not normalized data"
   ]
  },
  {
   "cell_type": "code",
   "execution_count": 37,
   "metadata": {},
   "outputs": [
    {
     "name": "stdout",
     "output_type": "stream",
     "text": [
      "Data Not Normalized, Absoultr ACR as the target\n",
      "Accuracy, Standard Deviations (+/- 2) : -10384.199747228411 20112.950551759288\n",
      "Regression Coefficients on Actual Data, 10 fold cross validation\n",
      "All Scores [-2.25671753e+04 -2.50634576e+04 -2.24218062e+04 -1.83625663e+04\n",
      " -9.77800552e+03 -3.72712629e+03 -1.64036623e+03 -2.75230275e+02\n",
      " -6.09319102e+00 -1.70599114e-01]\n",
      "\n",
      "\n",
      "\n"
     ]
    }
   ],
   "source": [
    "from sklearn.model_selection import cross_val_score\n",
    "\n",
    "print('Data Not Normalized, Absoultr ACR as the target')\n",
    "y = st['URDACT_Albumin_creatinine_ratio_mg_g']\n",
    "X = st.drop(columns=['URDACT_Albumin_creatinine_ratio_mg_g'])\n",
    "linear_regression_cross_validation_scores = cross_val_score(LinearRegression(), X, y, cv = 10)\n",
    "\n",
    "print(\"Accuracy, Standard Deviations (+/- 2) :\", linear_regression_cross_validation_scores.mean(), linear_regression_cross_validation_scores.std() * 2) \n",
    "\n",
    "print('Regression Coefficients on Actual Data, 10 fold cross validation');\n",
    "print('All Scores', linear_regression_cross_validation_scores)\n",
    "print('\\n\\n')"
   ]
  },
  {
   "cell_type": "markdown",
   "metadata": {},
   "source": [
    "print('Data Not Normalized, ACR Category as the target')\n",
    "y = st['acr_category']\n",
    "X = st.drop(columns=['URDACT_Albumin_creatinine_ratio_mg_g'])\n",
    "linear_regression_cross_validation_scores = cross_val_score(LinearRegression(), X, y, cv = 10)\n",
    "\n",
    "print(\"Accuracy, Standard Deviations (+/- 2) :\", linear_regression_cross_validation_scores.mean(), linear_regression_cross_validation_scores.std() * 2) \n",
    "print('All Scores', linear_regression_cross_validation_scores)\n",
    "print('\\n\\n')\n",
    "\n",
    "print('Data Normalized, ACR Value as the target')\n",
    "y = st_norm['URDACT_Albumin_creatinine_ratio_mg_g']\n",
    "X = st_norm.drop(columns=['acr_category', 'acr_category_2', 'URDACT_Albumin_creatinine_ratio_mg_g', 'acr_preserved'])\n",
    "linear_regression_cross_validation_scores = cross_val_score(LinearRegression(), X, y, cv = 10)\n",
    "\n",
    "print(\"Accuracy, Standard Deviations (+/- 2) :\", linear_regression_cross_validation_scores.mean(), linear_regression_cross_validation_scores.std() * 2) \n",
    "print('All Scores', linear_regression_cross_validation_scores)\n",
    "print('\\n\\n')\n",
    "\n",
    "print('Data Normalized, ACR Category as the target')\n",
    "\n",
    "\n",
    "\n",
    "y = st_norm['acr_category_2']\n",
    "X = st_norm.drop(columns=['acr_category', 'acr_category_2', 'URDACT_Albumin_creatinine_ratio_mg_g', 'acr_preserved'])\n",
    "linear_regression_cross_validation_scores = cross_val_score(LinearRegression(), X, y, cv = 10)\n",
    "\n",
    "print(\"Accuracy, Standard Deviations (+/- 2) :\", linear_regression_cross_validation_scores.mean(), linear_regression_cross_validation_scores.std() * 2) \n",
    "print('All Scores', linear_regression_cross_validation_scores)\n",
    "print('\\n\\n')"
   ]
  },
  {
   "cell_type": "markdown",
   "metadata": {},
   "source": [
    "# Apply Polynomial Regression"
   ]
  },
  {
   "cell_type": "code",
   "execution_count": 38,
   "metadata": {},
   "outputs": [
    {
     "name": "stdout",
     "output_type": "stream",
     "text": [
      "Data Not Normalized, Absolute ACR as the target\n"
     ]
    }
   ],
   "source": [
    "from sklearn.preprocessing import PolynomialFeatures\n",
    "\n",
    "print('Data Not Normalized, Absolute ACR as the target')\n",
    "y = st['URDACT_Albumin_creatinine_ratio_mg_g']\n",
    "X = st.drop(columns=['URDACT_Albumin_creatinine_ratio_mg_g'])\n",
    "\n",
    "X_poly =  PolynomialFeatures(degree = 2).fit_transform(X)\n",
    "\n",
    "X_train, X_test, y_train, y_test = train_test_split(\n",
    "    X_poly, y, test_size=0.20, random_state=42)"
   ]
  },
  {
   "cell_type": "code",
   "execution_count": 45,
   "metadata": {},
   "outputs": [
    {
     "name": "stdout",
     "output_type": "stream",
     "text": [
      "MSE train data, MSE test data 69611.79502924645 84447.76271195522\n",
      "RMSE train data, RMSE test data 263.8404726899314 263.8404726899314\n",
      "R2 train data:, R2 test data 0.00040087757372353483 -0.00015479352276237535\n"
     ]
    }
   ],
   "source": [
    "poly_regression = LinearRegression().fit(X_train, y_train)\n",
    "\n",
    "poly_regression_train_pred = poly_regression.predict(X_train)\n",
    "poly_regression_test_pred = poly_regression.predict(X_test)\n",
    "\n",
    "poly_regression_train_mse = mean_squared_error(y_train, poly_regression_train_pred)\n",
    "poly_regression_test_mse = mean_squared_error(y_test, poly_regression_test_pred)\n",
    "\n",
    "\n",
    "print('MSE train data, MSE test data', poly_regression_train_mse, poly_regression_test_mse)\n",
    "print('RMSE train data, RMSE test data', np.sqrt(np.absolute(poly_regression_train_mse)),  np.sqrt(np.absolute(poly_regression_train_mse)))                                                               \n",
    "print('R2 train data:, R2 test data', r2_score(y_train, poly_regression_train_pred), r2_score(y_test, poly_regression_test_pred))"
   ]
  },
  {
   "cell_type": "code",
   "execution_count": 46,
   "metadata": {},
   "outputs": [
    {
     "name": "stdout",
     "output_type": "stream",
     "text": [
      "Polynomial Regression (degree 2) Coefficients on Normalized Data, 20% as test data\n"
     ]
    },
    {
     "data": {
      "text/plain": [
       "array([ 6.93028367e-13, -6.61260380e-02, -3.16784855e-02,  3.61869794e-02,\n",
       "       -1.72390926e-02,  1.45780824e+00,  2.35730610e+00, -1.28709328e+00,\n",
       "       -2.22709562e+00, -1.88396799e+00,  2.37173279e-02,  5.98305606e-05,\n",
       "       -2.61312334e-03, -5.22740936e-04, -3.28963440e-04,  1.79871549e-02,\n",
       "        2.16657360e-02, -4.29046189e-02, -1.08681674e-02, -1.75398546e-02,\n",
       "        2.37944053e-03,  1.27720130e-02,  2.10212903e-02, -4.87193204e-03,\n",
       "       -1.75626257e-01, -1.91245604e-01,  2.88194142e-01,  2.04445693e-01,\n",
       "        1.91751606e-01, -1.03777867e-02,  2.15293835e-03, -4.45769806e-04,\n",
       "       -7.93993464e-02, -1.05065272e-01,  1.95007612e-01,  5.67896243e-02,\n",
       "        8.44188267e-02, -1.12763047e-02,  2.27362324e-03, -8.79980429e-03,\n",
       "       -4.05240254e-02,  4.66421085e-02,  5.97213156e-02,  5.46281499e-02,\n",
       "        1.55639263e-03,  4.05278369e-02,  6.42359229e-01, -8.69729650e-01,\n",
       "       -8.53741041e-01, -7.22292873e-01,  1.49452871e-02,  2.39822793e-01,\n",
       "       -6.27102504e-01, -8.98521604e-01, -8.11843167e-01,  4.17758976e-03,\n",
       "        5.79615937e-01,  1.10452070e+00,  1.09987864e+00, -2.44751164e-02,\n",
       "        5.67381355e-01,  1.12649219e+00, -3.22306518e-02,  5.15201869e-01,\n",
       "       -2.48707034e-02,  2.23856400e-05])"
      ]
     },
     "execution_count": 46,
     "metadata": {},
     "output_type": "execute_result"
    }
   ],
   "source": [
    "print('Polynomial Regression (degree 2) Coefficients on Normalized Data, 20% as test data');\n",
    "poly_regression.coef_ "
   ]
  },
  {
   "cell_type": "code",
   "execution_count": null,
   "metadata": {},
   "outputs": [],
   "source": []
  },
  {
   "cell_type": "code",
   "execution_count": 40,
   "metadata": {},
   "outputs": [
    {
     "name": "stdout",
     "output_type": "stream",
     "text": [
      "Accuracy and Standard Deviations (+/- 2)  -10544.733577359078 20461.55955421137\n",
      "All Scores [-2.29249198e+04 -2.56259388e+04 -2.27524228e+04 -1.85444716e+04\n",
      " -9.88855344e+03 -3.76514823e+03 -1.65942150e+03 -2.79641758e+02\n",
      " -6.64725609e+00 -1.70595289e-01]\n"
     ]
    }
   ],
   "source": [
    "poly_regression_cv = cross_val_score(LinearRegression(), X_poly, y, cv = 10)\n",
    "print(\"Accuracy and Standard Deviations (+/- 2) \", poly_regression_cv.mean(), poly_regression_cv.std() * 2)\n",
    "print ('All Scores', poly_regression_cv)"
   ]
  },
  {
   "cell_type": "code",
   "execution_count": 64,
   "metadata": {},
   "outputs": [
    {
     "name": "stdout",
     "output_type": "stream",
     "text": [
      "Polynomial Regression (degree 2) Coefficients on Normalized Data, 20% as test data\n"
     ]
    }
   ],
   "source": [
    "print('Polynomial Regression (degree 2) Coefficients on Normalized Data, 20% as test data');\n",
    "# poly_regression_cv.coef_ "
   ]
  },
  {
   "cell_type": "code",
   "execution_count": 47,
   "metadata": {},
   "outputs": [
    {
     "name": "stdout",
     "output_type": "stream",
     "text": [
      "-4.26766717063695\n"
     ]
    }
   ],
   "source": [
    "# https://www.analyticsvidhya.com/blog/2021/07/all-you-need-to-know-about-polynomial-regression/\n",
    "#applying polynomial regression degree 2\n",
    "poly = PolynomialFeatures(degree=2, include_bias=True)\n",
    "x_train_trans = poly.fit_transform(X_train)\n",
    "x_test_trans = poly.transform(X_test)\n",
    "#include bias parameter\n",
    "lr = LinearRegression()\n",
    "lr.fit(x_train_trans, y_train)\n",
    "y_pred = lr.predict(x_test_trans)\n",
    "print(r2_score(y_test, y_pred))"
   ]
  },
  {
   "cell_type": "code",
   "execution_count": 52,
   "metadata": {},
   "outputs": [
    {
     "data": {
      "text/plain": [
       "array([-3.81416865e-03, -6.69377001e+01, -3.84786753e+00,  5.80169491e+00,\n",
       "        6.20199846e-01,  1.91469449e+00, -6.95167198e-01,  5.59480998e+00,\n",
       "        8.49816760e-01, -5.16740292e+00])"
      ]
     },
     "execution_count": 52,
     "metadata": {},
     "output_type": "execute_result"
    }
   ],
   "source": [
    "lr.coef_[:10]"
   ]
  },
  {
   "cell_type": "code",
   "execution_count": 53,
   "metadata": {},
   "outputs": [
    {
     "name": "stdout",
     "output_type": "stream",
     "text": [
      "113.06958169897533\n"
     ]
    }
   ],
   "source": [
    "print(lr.intercept_)"
   ]
  },
  {
   "cell_type": "markdown",
   "metadata": {},
   "source": [
    "# RandomForestRegressor"
   ]
  },
  {
   "cell_type": "code",
   "execution_count": 55,
   "metadata": {},
   "outputs": [
    {
     "name": "stdout",
     "output_type": "stream",
     "text": [
      "Data Not Normalized, Absolute ACR as the target\n",
      "MSE train data, MSE test data 69330.5793802937 84297.61295586039\n",
      "RMSE train data, RMSE test data 263.3070059460889 263.3070059460889\n",
      "R2 train data, R2 test data 0.004439028231778108 0.0016235010522728244\n"
     ]
    }
   ],
   "source": [
    "# https://scikit-learn.org/stable/modules/generated/sklearn.ensemble.RandomForestRegressor.html\n",
    "from sklearn.ensemble import RandomForestRegressor\n",
    "\n",
    "print('Data Not Normalized, Absolute ACR as the target')\n",
    "y = st['URDACT_Albumin_creatinine_ratio_mg_g']\n",
    "X = st.drop(columns=['URDACT_Albumin_creatinine_ratio_mg_g'])\n",
    "X_poly =  PolynomialFeatures(degree = 2).fit_transform(X)\n",
    "\n",
    "X_train, X_test, y_train, y_test = train_test_split(\n",
    "    X_poly, y, test_size=0.20, random_state=42)\n",
    "\n",
    "random_forest = RandomForestRegressor(n_estimators = 100, bootstrap=True, criterion='mse', max_depth=2).fit(X_train, y_train)\n",
    "\n",
    "random_forest_train_pred = random_forest.predict(X_train)\n",
    "random_forest_test_pred = random_forest.predict(X_test)\n",
    "\n",
    "random_forest_train_mse = mean_squared_error(y_train, random_forest_train_pred)\n",
    "random_forest_test_mse = mean_squared_error(y_test, random_forest_test_pred)\n",
    "\n",
    "print('MSE train data, MSE test data', random_forest_train_mse, random_forest_test_mse)\n",
    "print('RMSE train data, RMSE test data', np.sqrt(np.absolute(random_forest_train_mse)),  np.sqrt(np.absolute(random_forest_train_mse)))\n",
    "print('R2 train data, R2 test data', r2_score(y_train, random_forest_train_pred), r2_score(y_test, random_forest_test_pred))"
   ]
  },
  {
   "cell_type": "markdown",
   "metadata": {},
   "source": [
    "# RandomForestRegressor with cross validation \n",
    "K Fold"
   ]
  },
  {
   "cell_type": "code",
   "execution_count": 56,
   "metadata": {},
   "outputs": [
    {
     "name": "stdout",
     "output_type": "stream",
     "text": [
      "Accuracy: Mean and Standard Deviations -10551.873759576327 20483.13796637598\n",
      "All scores [-2.32245378e+04 -2.54793971e+04 -2.27525248e+04 -1.85290858e+04\n",
      " -9.76308532e+03 -3.81447221e+03 -1.66989459e+03 -2.79091605e+02\n",
      " -6.47780365e+00 -1.70615532e-01]\n"
     ]
    }
   ],
   "source": [
    "random_forest_cv = cross_val_score(RandomForestRegressor(n_estimators = 100, bootstrap=True, criterion='mse', max_depth=2), X_poly, y, cv = 10)\n",
    "print(\"Accuracy: Mean and Standard Deviations\", random_forest_cv.mean(), random_forest_cv.std() * 2)\n",
    "print('All scores', random_forest_cv)"
   ]
  },
  {
   "cell_type": "code",
   "execution_count": 59,
   "metadata": {},
   "outputs": [
    {
     "name": "stdout",
     "output_type": "stream",
     "text": [
      "Accuracy: Mean and Standard Deviations -10577.372638150822 20570.28700508069\n",
      "All scores [-2.33167424e+04 -2.56046658e+04 -2.28279431e+04 -1.85389502e+04\n",
      " -9.77832271e+03 -3.75463858e+03 -1.66818374e+03 -2.77584768e+02\n",
      " -6.52443473e+00 -1.70615237e-01]\n"
     ]
    }
   ],
   "source": [
    "random_forest_cv = cross_val_score(RandomForestRegressor(n_estimators = 100, bootstrap=True, criterion='mse', max_depth=2), X, y, cv = 10)\n",
    "print(\"Accuracy: Mean and Standard Deviations\", random_forest_cv.mean(), random_forest_cv.std() * 2)\n",
    "print('All scores', random_forest_cv)"
   ]
  },
  {
   "cell_type": "code",
   "execution_count": 60,
   "metadata": {},
   "outputs": [],
   "source": [
    "#random_forest.score"
   ]
  },
  {
   "cell_type": "markdown",
   "metadata": {},
   "source": [
    "From: https://scikit-learn.org/stable/modules/generated/sklearn.ensemble.RandomForestRegressor.html\n",
    "Ref: Example Parameters:        \n",
    "RandomForestRegressor(bootstrap=True, criterion='mse', max_depth=2,\n",
    "           max_features='auto', max_leaf_nodes=None,\n",
    "           min_impurity_decrease=0.0, min_impurity_split=None,\n",
    "           min_samples_leaf=1, min_samples_split=2,\n",
    "           min_weight_fraction_leaf=0.0, n_estimators=100, n_jobs=None,\n",
    "           oob_score=False, random_state=0, verbose=0, warm_start=False)"
   ]
  },
  {
   "cell_type": "markdown",
   "metadata": {},
   "source": [
    "rfr_cv"
   ]
  },
  {
   "cell_type": "markdown",
   "metadata": {},
   "source": [
    "# Bayesian"
   ]
  },
  {
   "cell_type": "code",
   "execution_count": 61,
   "metadata": {},
   "outputs": [
    {
     "name": "stdout",
     "output_type": "stream",
     "text": [
      "Data Not Normalized, Absolute ACR as the target\n",
      "MSE train data, MSE test data 71304.03661812235 84203.61150693354\n",
      "RMSE train data, RMSE test data 267.02815697623043 267.02815697623043\n",
      "R2 train data, R2 test data 7.173424597406441e-05 2.15890285020226e-05\n",
      "#########################################\n",
      "Bayesian on Polynomial fit\n",
      "MSE train data, MSE test data 71299.02288901998 84223.59647978879\n",
      "RMSE train data, RMSE test data 267.0187687954163 267.0187687954163\n",
      "R2 train data, R2 test data 0.000142044002392816 -0.00021574688906067507\n"
     ]
    }
   ],
   "source": [
    "from sklearn.linear_model import BayesianRidge\n",
    "\n",
    "print('Data Not Normalized, Absolute ACR as the target')\n",
    "y = st['URDACT_Albumin_creatinine_ratio_mg_g']\n",
    "X = st.drop(columns=['URDACT_Albumin_creatinine_ratio_mg_g'])\n",
    "X_train, X_test, y_train, y_test = train_test_split(X, y, test_size=0.10, random_state=42)\n",
    "\n",
    "bayesian = BayesianRidge().fit(X_train, y_train)\n",
    "\n",
    "bayesian_train_pred = bayesian.predict(X_train)\n",
    "bayesian_test_pred = bayesian.predict(X_test)\n",
    "\n",
    "bayesian_train_mse = mean_squared_error(y_train, bayesian_train_pred)\n",
    "bayesian_test_mse = mean_squared_error(y_test, bayesian_test_pred)\n",
    "\n",
    "print('MSE train data, MSE test data', bayesian_train_mse, bayesian_test_mse)\n",
    "print('RMSE train data, RMSE test data', np.sqrt(np.absolute(bayesian_train_mse)),  np.sqrt(np.absolute(bayesian_train_mse)))\n",
    "                                                               \n",
    "print('R2 train data, R2 test data', r2_score(y_train, bayesian_train_pred), r2_score(y_test, bayesian_test_pred))\n",
    "\n",
    "print('#########################################')\n",
    "\n",
    "X_poly =  PolynomialFeatures(degree = 2).fit_transform(X)\n",
    "X_train, X_test, y_train, y_test = train_test_split(X_poly, y, test_size=0.10, random_state=42)\n",
    "\n",
    "bayesian = BayesianRidge().fit(X_train, y_train)\n",
    "\n",
    "bayesian_train_pred = bayesian.predict(X_train)\n",
    "bayesian_test_pred = bayesian.predict(X_test)\n",
    "\n",
    "bayesian_train_mse = mean_squared_error(y_train, bayesian_train_pred)\n",
    "bayesian_test_mse = mean_squared_error(y_test, bayesian_test_pred)\n",
    "\n",
    "print('Bayesian on Polynomial fit')\n",
    "print('MSE train data, MSE test data', bayesian_train_mse, bayesian_test_mse)\n",
    "print('RMSE train data, RMSE test data', np.sqrt(np.absolute(bayesian_train_mse)),  np.sqrt(np.absolute(bayesian_train_mse)))\n",
    "                                                               \n",
    "print('R2 train data, R2 test data', r2_score(y_train, bayesian_train_pred), r2_score(y_test, bayesian_test_pred))\n",
    "\n"
   ]
  },
  {
   "cell_type": "markdown",
   "metadata": {},
   "source": [
    "# Bayesian with Cross Validation\n",
    "Polynomial X is used "
   ]
  },
  {
   "cell_type": "code",
   "execution_count": 62,
   "metadata": {},
   "outputs": [
    {
     "name": "stdout",
     "output_type": "stream",
     "text": [
      "Accuracy and Standard Deviations -10408.982629315093 20199.334670222353\n",
      "All Scores [-2.27900483e+04 -2.50498000e+04 -2.25729406e+04 -1.83335454e+04\n",
      " -9.71570977e+03 -3.72224820e+03 -1.62521977e+03 -2.74144907e+02\n",
      " -5.99871183e+00 -1.70606684e-01]\n"
     ]
    }
   ],
   "source": [
    "bayesian_cv = cross_val_score(BayesianRidge(), X_poly, y, cv = 10)\n",
    "print(\"Accuracy and Standard Deviations\", bayesian_cv.mean(), bayesian_cv.std() * 2) \n",
    "print('All Scores', bayesian_cv)"
   ]
  },
  {
   "cell_type": "code",
   "execution_count": 63,
   "metadata": {},
   "outputs": [],
   "source": [
    "# interpret coeffs\n",
    "# https://scikit-learn.org/stable/auto_examples/inspection/plot_linear_model_coefficient_interpretation.html"
   ]
  },
  {
   "cell_type": "markdown",
   "metadata": {},
   "source": [
    "# The following can be ignored, Kfold cross validation is already considered above"
   ]
  },
  {
   "cell_type": "markdown",
   "metadata": {},
   "source": [
    "References\n",
    "\n",
    "Projects mentioned on: http://sitestree.com/prediction-bayesian-regression-concepts-example-projects/\n",
    "\n",
    "Insurance HealthCare Costs: https://github.com/techshot25/HealthCare \n",
    "Linear and Bayesian modeling in R: Predicting movie popularity\n",
    "https://towardsdatascience.com/linear-and-bayesian-modelling-in-r-predicting-movie-popularity-6c8ef0a44184 \n",
    "\n",
    "Bayesian-Stock-Price-Prediction\n",
    "https://github.com/lschlessinger1/Bayesian-Stock-Price-Prediction \n",
    " \n",
    "Bayesian Prediction: Well (Oil) Production\n",
    "https://github.com/jpgrana/bayesian-approach-predicting-well-production  \n",
    "\n",
    "Binary Classification on Stock Market (S&P 500) using Naive Bayes and Logistic Regression \n",
    "https://github.com/NeilPrabhu/Stock-Prediction \n",
    "\n",
    "Naive Bayes Weather Prediction\n",
    "https://github.com/husnainfareed/simple-naive-bayes-weather-prediction/blob/master/bayes.py \n",
    "\n",
    "Regression Predict Fuel Efficiency:\n",
    "https://www.tensorflow.org/tutorials/keras/basic_regression\n",
    "\n",
    "Regression-Example-Predicting-House-Prices\n",
    "https://github.com/andersy005/deep-learning/blob/master/keras/04-A-Regression-Example-Predicting-House-Prices.ipynb \n",
    "\n",
    "Stock Price Prediction using Regression\n",
    "https://github.com/chaitjo/regression-stock-prediction \n",
    "\n",
    "Concept:\n",
    "Predicting the Future with Bayes’ Theorem\n",
    "https://fs.blog/2018/09/bayes-theorem/ \n",
    "\n",
    "Chapter 5 - Bayesian Prediction\n",
    "https://www.sciencedirect.com/science/article/pii/B9780123748546000089  \n",
    "\n",
    "Books:\n",
    "\n",
    "Bayesian Methods for Hackers\n",
    "https://github.com/CamDavidsonPilon/Probabilistic-Programming-and-Bayesian-Methods-for-Hackers  \n",
    "\n",
    "Multiple-linear-regression\n",
    "https://github.com/topics/multiple-linear-regression \n",
    "\n",
    "Making Predictions with Regression Analysis\n",
    "https://statisticsbyjim.com/regression/predictions-regression/  \n",
    "\n",
    "Regression and Prediction\n",
    "http://jukebox.esc13.net/untdeveloper/RM/Stats_Module_5/Stats_Module_56.html \n",
    " \n",
    "\n",
    "https://towardsdatascience.com/train-test-split-and-cross-validation-in-python-80b61beca4b6    "
   ]
  },
  {
   "cell_type": "code",
   "execution_count": null,
   "metadata": {},
   "outputs": [],
   "source": []
  }
 ],
 "metadata": {
  "kernelspec": {
   "display_name": "Python 3 (ipykernel)",
   "language": "python",
   "name": "python3"
  },
  "language_info": {
   "codemirror_mode": {
    "name": "ipython",
    "version": 3
   },
   "file_extension": ".py",
   "mimetype": "text/x-python",
   "name": "python",
   "nbconvert_exporter": "python",
   "pygments_lexer": "ipython3",
   "version": "3.9.7"
  }
 },
 "nbformat": 4,
 "nbformat_minor": 2
}
